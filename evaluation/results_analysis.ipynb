{
 "cells": [
  {
   "cell_type": "code",
   "execution_count": 15,
   "metadata": {
    "collapsed": true,
    "ExecuteTime": {
     "end_time": "2023-05-28T11:01:27.632669700Z",
     "start_time": "2023-05-28T11:01:27.621670700Z"
    }
   },
   "outputs": [],
   "source": [
    "import matplotlib.pyplot as plt\n",
    "import pandas as pd\n",
    "import pickle\n",
    "from ru_detoxification_evaluation import load_model\n",
    "from ru_detoxification_metrics import evaluate_style, evaluate_cosine_similarity, evaluate_cola_relative\n",
    "from transformers import AutoModel\n",
    "from scipy.stats import ttest_ind, linregress\n",
    "import seaborn as sns\n",
    "from pingouin import ancova"
   ]
  },
  {
   "cell_type": "code",
   "execution_count": 2,
   "outputs": [],
   "source": [
    "use_cuda = True"
   ],
   "metadata": {
    "collapsed": false,
    "ExecuteTime": {
     "end_time": "2023-05-28T10:59:27.340275500Z",
     "start_time": "2023-05-28T10:59:27.328004200Z"
    }
   }
  },
  {
   "cell_type": "code",
   "execution_count": 3,
   "outputs": [
    {
     "name": "stderr",
     "output_type": "stream",
     "text": [
      "Some weights of the model checkpoint at cointegrated/LaBSE-en-ru were not used when initializing BertModel: ['cls.predictions.decoder.weight', 'cls.predictions.transform.LayerNorm.bias', 'cls.predictions.decoder.bias', 'cls.seq_relationship.bias', 'cls.predictions.bias', 'cls.predictions.transform.dense.bias', 'cls.predictions.transform.LayerNorm.weight', 'cls.predictions.transform.dense.weight', 'cls.seq_relationship.weight']\n",
      "- This IS expected if you are initializing BertModel from the checkpoint of a model trained on another task or with another architecture (e.g. initializing a BertForSequenceClassification model from a BertForPreTraining model).\n",
      "- This IS NOT expected if you are initializing BertModel from the checkpoint of a model that you expect to be exactly identical (initializing a BertForSequenceClassification model from a BertForSequenceClassification model).\n"
     ]
    }
   ],
   "source": [
    "style_model, style_tokenizer = load_model('s-nlp/russian_toxicity_classifier', use_cuda=use_cuda)\n",
    "meaning_model, meaning_tokenizer = load_model('cointegrated/LaBSE-en-ru', use_cuda=use_cuda, model_class=AutoModel)\n",
    "cola_model, cola_tokenizer = load_model('s-nlp/rubert-base-corruption-detector', use_cuda=use_cuda)"
   ],
   "metadata": {
    "collapsed": false,
    "ExecuteTime": {
     "end_time": "2023-05-28T10:59:33.981782200Z",
     "start_time": "2023-05-28T10:59:27.341275500Z"
    }
   }
  },
  {
   "cell_type": "code",
   "execution_count": 4,
   "outputs": [],
   "source": [
    "df = pd.read_csv('../data/input/dev.tsv', sep='\\t')\n",
    "df = df.fillna('')\n",
    "toxic_inputs = df['toxic_comment'].tolist()\n",
    "toxic_inputs_10 = [x for x in toxic_inputs for i in range(10)]"
   ],
   "metadata": {
    "collapsed": false,
    "ExecuteTime": {
     "end_time": "2023-05-28T10:59:33.994781600Z",
     "start_time": "2023-05-28T10:59:33.977783100Z"
    }
   }
  },
  {
   "cell_type": "markdown",
   "source": [
    "## CAIF results"
   ],
   "metadata": {
    "collapsed": false
   }
  },
  {
   "cell_type": "code",
   "execution_count": 3,
   "outputs": [],
   "source": [
    "with open('../data/rank_candidates_results/caif-rut5-base-paraphraser-10-samples.pickle', 'rb') as f:\n",
    "    caif_results = pickle.load(f)\n",
    "all_caif_samples = []\n",
    "for i in caif_results:\n",
    "    all_caif_samples.extend([candidate[2] for candidate in i])"
   ],
   "metadata": {
    "collapsed": false,
    "ExecuteTime": {
     "end_time": "2023-05-27T15:20:06.137232600Z",
     "start_time": "2023-05-27T15:20:06.102525500Z"
    }
   }
  },
  {
   "cell_type": "code",
   "execution_count": 47,
   "outputs": [
    {
     "data": {
      "text/plain": "  0%|          | 0/250 [00:00<?, ?it/s]",
      "application/vnd.jupyter.widget-view+json": {
       "version_major": 2,
       "version_minor": 0,
       "model_id": "35d670d5ec4c4cdeb4911cf8d69ba3d4"
      }
     },
     "metadata": {},
     "output_type": "display_data"
    }
   ],
   "source": [
    "caif_accuracy = evaluate_style(\n",
    "    model=style_model,\n",
    "    tokenizer=style_tokenizer,\n",
    "    texts=all_caif_samples,\n",
    "    target_label=0,  # 1 is toxic, 0 is neutral\n",
    "    batch_size=32,\n",
    "    verbose=True\n",
    ")"
   ],
   "metadata": {
    "collapsed": false,
    "ExecuteTime": {
     "end_time": "2023-05-27T15:41:13.772675300Z",
     "start_time": "2023-05-27T15:41:03.922543800Z"
    }
   }
  },
  {
   "cell_type": "code",
   "execution_count": 48,
   "outputs": [
    {
     "data": {
      "text/plain": "0.72803795"
     },
     "execution_count": 48,
     "metadata": {},
     "output_type": "execute_result"
    }
   ],
   "source": [
    "caif_accuracy.mean()"
   ],
   "metadata": {
    "collapsed": false,
    "ExecuteTime": {
     "end_time": "2023-05-27T15:41:13.775573600Z",
     "start_time": "2023-05-27T15:41:13.772675300Z"
    }
   }
  },
  {
   "cell_type": "code",
   "execution_count": 49,
   "outputs": [],
   "source": [
    "caif_toxic_count = (caif_accuracy.reshape(-1, 10) < 0.5).sum(axis=1)"
   ],
   "metadata": {
    "collapsed": false,
    "ExecuteTime": {
     "end_time": "2023-05-27T15:41:13.803653Z",
     "start_time": "2023-05-27T15:41:13.776572800Z"
    }
   }
  },
  {
   "cell_type": "code",
   "execution_count": 50,
   "outputs": [
    {
     "data": {
      "text/plain": "2.815"
     },
     "execution_count": 50,
     "metadata": {},
     "output_type": "execute_result"
    }
   ],
   "source": [
    "caif_toxic_count.mean()"
   ],
   "metadata": {
    "collapsed": false,
    "ExecuteTime": {
     "end_time": "2023-05-27T15:41:13.825563400Z",
     "start_time": "2023-05-27T15:41:13.803653Z"
    }
   }
  },
  {
   "cell_type": "code",
   "execution_count": 51,
   "outputs": [
    {
     "data": {
      "text/plain": "  0%|          | 0/250 [00:00<?, ?it/s]",
      "application/vnd.jupyter.widget-view+json": {
       "version_major": 2,
       "version_minor": 0,
       "model_id": "748aae86ba264ded8a0ff75d91979562"
      }
     },
     "metadata": {},
     "output_type": "display_data"
    },
    {
     "data": {
      "text/plain": "  0%|          | 0/250 [00:00<?, ?it/s]",
      "application/vnd.jupyter.widget-view+json": {
       "version_major": 2,
       "version_minor": 0,
       "model_id": "86cec5d108f84a9abb9b3df958687260"
      }
     },
     "metadata": {},
     "output_type": "display_data"
    }
   ],
   "source": [
    "caif_similarity = evaluate_cosine_similarity(\n",
    "    model=meaning_model,\n",
    "    tokenizer=meaning_tokenizer,\n",
    "    original_texts=toxic_inputs_10,\n",
    "    rewritten_texts=all_caif_samples,\n",
    "    batch_size=32,\n",
    "    verbose=True,\n",
    ")"
   ],
   "metadata": {
    "collapsed": false,
    "ExecuteTime": {
     "end_time": "2023-05-27T15:41:34.237591300Z",
     "start_time": "2023-05-27T15:41:13.817563600Z"
    }
   }
  },
  {
   "cell_type": "code",
   "execution_count": 52,
   "outputs": [
    {
     "data": {
      "text/plain": "0.53656715"
     },
     "execution_count": 52,
     "metadata": {},
     "output_type": "execute_result"
    }
   ],
   "source": [
    "caif_similarity.mean()"
   ],
   "metadata": {
    "collapsed": false,
    "ExecuteTime": {
     "end_time": "2023-05-27T15:41:34.237591300Z",
     "start_time": "2023-05-27T15:41:34.205893300Z"
    }
   }
  },
  {
   "cell_type": "code",
   "execution_count": 53,
   "outputs": [
    {
     "data": {
      "text/plain": "  0%|          | 0/250 [00:00<?, ?it/s]",
      "application/vnd.jupyter.widget-view+json": {
       "version_major": 2,
       "version_minor": 0,
       "model_id": "26e5fe6cc40d4435b1f7ac3c5762a2c9"
      }
     },
     "metadata": {},
     "output_type": "display_data"
    },
    {
     "data": {
      "text/plain": "  0%|          | 0/250 [00:00<?, ?it/s]",
      "application/vnd.jupyter.widget-view+json": {
       "version_major": 2,
       "version_minor": 0,
       "model_id": "1deb7f473f664a4fb9cc204c1bbaf535"
      }
     },
     "metadata": {},
     "output_type": "display_data"
    }
   ],
   "source": [
    "caif_fluency = evaluate_cola_relative(\n",
    "    model=cola_model,\n",
    "    tokenizer=cola_tokenizer,\n",
    "    original_texts=toxic_inputs_10,\n",
    "    rewritten_texts=all_caif_samples,\n",
    "    target_label=1,\n",
    "    batch_size=32,\n",
    "    verbose=True\n",
    ")"
   ],
   "metadata": {
    "collapsed": false,
    "ExecuteTime": {
     "end_time": "2023-05-27T15:41:52.954369800Z",
     "start_time": "2023-05-27T15:41:34.237591300Z"
    }
   }
  },
  {
   "cell_type": "code",
   "execution_count": 54,
   "outputs": [
    {
     "data": {
      "text/plain": "0.6862003"
     },
     "execution_count": 54,
     "metadata": {},
     "output_type": "execute_result"
    }
   ],
   "source": [
    "caif_fluency.mean()"
   ],
   "metadata": {
    "collapsed": false,
    "ExecuteTime": {
     "end_time": "2023-05-27T15:41:52.967703200Z",
     "start_time": "2023-05-27T15:41:52.954369800Z"
    }
   }
  },
  {
   "cell_type": "markdown",
   "source": [
    "## Plain results"
   ],
   "metadata": {
    "collapsed": false
   }
  },
  {
   "cell_type": "code",
   "execution_count": 55,
   "outputs": [],
   "source": [
    "with open('../data/rank_candidates_results/caif-alpha-0-rut5-base-paraphraser-10-samples.pickle', 'rb') as f:\n",
    "    plain_results = pickle.load(f)\n",
    "all_plain_samples = []\n",
    "for i in plain_results:\n",
    "    all_plain_samples.extend([candidate[2] for candidate in i])"
   ],
   "metadata": {
    "collapsed": false,
    "ExecuteTime": {
     "end_time": "2023-05-27T15:41:53.007868400Z",
     "start_time": "2023-05-27T15:41:52.967703200Z"
    }
   }
  },
  {
   "cell_type": "code",
   "execution_count": 56,
   "outputs": [
    {
     "data": {
      "text/plain": "  0%|          | 0/250 [00:00<?, ?it/s]",
      "application/vnd.jupyter.widget-view+json": {
       "version_major": 2,
       "version_minor": 0,
       "model_id": "ad273fbd30ab4554b3c754403d842d54"
      }
     },
     "metadata": {},
     "output_type": "display_data"
    }
   ],
   "source": [
    "plain_accuracy = evaluate_style(\n",
    "    model=style_model,\n",
    "    tokenizer=style_tokenizer,\n",
    "    texts=all_plain_samples,\n",
    "    target_label=0,  # 1 is toxic, 0 is neutral\n",
    "    batch_size=32,\n",
    "    verbose=True\n",
    ")"
   ],
   "metadata": {
    "collapsed": false,
    "ExecuteTime": {
     "end_time": "2023-05-27T15:42:02.418418500Z",
     "start_time": "2023-05-27T15:41:53.000867600Z"
    }
   }
  },
  {
   "cell_type": "code",
   "execution_count": 57,
   "outputs": [
    {
     "data": {
      "text/plain": "0.42077485"
     },
     "execution_count": 57,
     "metadata": {},
     "output_type": "execute_result"
    }
   ],
   "source": [
    "plain_accuracy.mean()"
   ],
   "metadata": {
    "collapsed": false,
    "ExecuteTime": {
     "end_time": "2023-05-27T15:42:02.437809800Z",
     "start_time": "2023-05-27T15:42:02.418418500Z"
    }
   }
  },
  {
   "cell_type": "code",
   "execution_count": 58,
   "outputs": [],
   "source": [
    "plain_toxic_count = (plain_accuracy.reshape(-1, 10) < 0.5).sum(axis=1)"
   ],
   "metadata": {
    "collapsed": false,
    "ExecuteTime": {
     "end_time": "2023-05-27T15:42:02.517744200Z",
     "start_time": "2023-05-27T15:42:02.437809800Z"
    }
   }
  },
  {
   "cell_type": "code",
   "execution_count": 59,
   "outputs": [
    {
     "data": {
      "text/plain": "6.4875"
     },
     "execution_count": 59,
     "metadata": {},
     "output_type": "execute_result"
    }
   ],
   "source": [
    "plain_toxic_count.mean()"
   ],
   "metadata": {
    "collapsed": false,
    "ExecuteTime": {
     "end_time": "2023-05-27T15:42:02.517744200Z",
     "start_time": "2023-05-27T15:42:02.470229900Z"
    }
   }
  },
  {
   "cell_type": "code",
   "execution_count": 60,
   "outputs": [
    {
     "data": {
      "text/plain": "  0%|          | 0/250 [00:00<?, ?it/s]",
      "application/vnd.jupyter.widget-view+json": {
       "version_major": 2,
       "version_minor": 0,
       "model_id": "f559f0ef63134134ade88021a78d356d"
      }
     },
     "metadata": {},
     "output_type": "display_data"
    },
    {
     "data": {
      "text/plain": "  0%|          | 0/250 [00:00<?, ?it/s]",
      "application/vnd.jupyter.widget-view+json": {
       "version_major": 2,
       "version_minor": 0,
       "model_id": "b7274c8788c74108b8415d74e2b16a14"
      }
     },
     "metadata": {},
     "output_type": "display_data"
    }
   ],
   "source": [
    "plain_similarity = evaluate_cosine_similarity(\n",
    "    model=meaning_model,\n",
    "    tokenizer=meaning_tokenizer,\n",
    "    original_texts=toxic_inputs_10,\n",
    "    rewritten_texts=all_plain_samples,\n",
    "    batch_size=32,\n",
    "    verbose=True,\n",
    ")"
   ],
   "metadata": {
    "collapsed": false,
    "ExecuteTime": {
     "end_time": "2023-05-27T15:42:23.560997200Z",
     "start_time": "2023-05-27T15:42:02.492534800Z"
    }
   }
  },
  {
   "cell_type": "code",
   "execution_count": 61,
   "outputs": [
    {
     "data": {
      "text/plain": "0.6312957"
     },
     "execution_count": 61,
     "metadata": {},
     "output_type": "execute_result"
    }
   ],
   "source": [
    "plain_similarity.mean()"
   ],
   "metadata": {
    "collapsed": false,
    "ExecuteTime": {
     "end_time": "2023-05-27T15:42:23.577029700Z",
     "start_time": "2023-05-27T15:42:23.561998600Z"
    }
   }
  },
  {
   "cell_type": "code",
   "execution_count": 62,
   "outputs": [
    {
     "data": {
      "text/plain": "  0%|          | 0/250 [00:00<?, ?it/s]",
      "application/vnd.jupyter.widget-view+json": {
       "version_major": 2,
       "version_minor": 0,
       "model_id": "8cd415ba41364010a42f2ed9027fcf87"
      }
     },
     "metadata": {},
     "output_type": "display_data"
    },
    {
     "data": {
      "text/plain": "  0%|          | 0/250 [00:00<?, ?it/s]",
      "application/vnd.jupyter.widget-view+json": {
       "version_major": 2,
       "version_minor": 0,
       "model_id": "d0aef62d532f4ba2a9a95bef425a9f77"
      }
     },
     "metadata": {},
     "output_type": "display_data"
    }
   ],
   "source": [
    "plain_fluency = evaluate_cola_relative(\n",
    "    model=cola_model,\n",
    "    tokenizer=cola_tokenizer,\n",
    "    original_texts=toxic_inputs_10,\n",
    "    rewritten_texts=all_plain_samples,\n",
    "    target_label=1,\n",
    "    batch_size=32,\n",
    "    verbose=True\n",
    ")"
   ],
   "metadata": {
    "collapsed": false,
    "ExecuteTime": {
     "end_time": "2023-05-27T15:42:42.655301300Z",
     "start_time": "2023-05-27T15:42:23.587765900Z"
    }
   }
  },
  {
   "cell_type": "code",
   "execution_count": 63,
   "outputs": [
    {
     "data": {
      "text/plain": "0.7285791"
     },
     "execution_count": 63,
     "metadata": {},
     "output_type": "execute_result"
    }
   ],
   "source": [
    "plain_fluency.mean()"
   ],
   "metadata": {
    "collapsed": false,
    "ExecuteTime": {
     "end_time": "2023-05-27T15:42:42.671302400Z",
     "start_time": "2023-05-27T15:42:42.657303300Z"
    }
   }
  },
  {
   "cell_type": "markdown",
   "source": [
    "## Statistical tests"
   ],
   "metadata": {
    "collapsed": false
   }
  },
  {
   "cell_type": "code",
   "execution_count": 64,
   "outputs": [
    {
     "data": {
      "text/plain": "Ttest_indResult(statistic=54.485642282469136, pvalue=0.0)"
     },
     "execution_count": 64,
     "metadata": {},
     "output_type": "execute_result"
    }
   ],
   "source": [
    "ttest_ind(caif_accuracy, plain_accuracy)"
   ],
   "metadata": {
    "collapsed": false,
    "ExecuteTime": {
     "end_time": "2023-05-27T15:42:42.727886200Z",
     "start_time": "2023-05-27T15:42:42.672301400Z"
    }
   }
  },
  {
   "cell_type": "code",
   "execution_count": 65,
   "outputs": [
    {
     "data": {
      "text/plain": "Ttest_indResult(statistic=-24.26125897941272, pvalue=5.822118424244028e-111)"
     },
     "execution_count": 65,
     "metadata": {},
     "output_type": "execute_result"
    }
   ],
   "source": [
    "ttest_ind(caif_toxic_count, plain_toxic_count)"
   ],
   "metadata": {
    "collapsed": false,
    "ExecuteTime": {
     "end_time": "2023-05-27T15:42:42.737889100Z",
     "start_time": "2023-05-27T15:42:42.687588900Z"
    }
   }
  },
  {
   "cell_type": "code",
   "execution_count": 67,
   "outputs": [
    {
     "data": {
      "text/plain": "Ttest_indResult(statistic=-23.46687517352151, pvalue=9.298801310526114e-120)"
     },
     "execution_count": 67,
     "metadata": {},
     "output_type": "execute_result"
    }
   ],
   "source": [
    "ttest_ind(caif_similarity, plain_similarity)"
   ],
   "metadata": {
    "collapsed": false,
    "ExecuteTime": {
     "end_time": "2023-05-27T15:42:48.637675Z",
     "start_time": "2023-05-27T15:42:48.627439200Z"
    }
   }
  },
  {
   "cell_type": "code",
   "execution_count": 66,
   "outputs": [
    {
     "data": {
      "text/plain": "Ttest_indResult(statistic=-11.527784528434534, pvalue=1.2627283686156051e-30)"
     },
     "execution_count": 66,
     "metadata": {},
     "output_type": "execute_result"
    }
   ],
   "source": [
    "ttest_ind(caif_fluency, plain_fluency)"
   ],
   "metadata": {
    "collapsed": false,
    "ExecuteTime": {
     "end_time": "2023-05-27T15:42:42.737889100Z",
     "start_time": "2023-05-27T15:42:42.707474Z"
    }
   }
  },
  {
   "cell_type": "markdown",
   "source": [
    "## Relative toxicity"
   ],
   "metadata": {
    "collapsed": false
   }
  },
  {
   "cell_type": "code",
   "execution_count": 5,
   "outputs": [],
   "source": [
    "with open('../data/output/caif-rut5-base-paraphraser-10-samples_dev.txt', encoding='utf-8') as f:\n",
    "    best_caif_samples = f.read().splitlines()"
   ],
   "metadata": {
    "collapsed": false,
    "ExecuteTime": {
     "end_time": "2023-05-28T10:59:38.145982100Z",
     "start_time": "2023-05-28T10:59:38.133953400Z"
    }
   }
  },
  {
   "cell_type": "code",
   "execution_count": 6,
   "outputs": [],
   "source": [
    "with open('../data/output/caif-alpha-0-rut5-base-paraphraser-10-samples_dev.txt', encoding='utf-8') as f:\n",
    "    best_plain_samples = f.read().splitlines()"
   ],
   "metadata": {
    "collapsed": false,
    "ExecuteTime": {
     "end_time": "2023-05-28T10:59:38.571279Z",
     "start_time": "2023-05-28T10:59:38.559247800Z"
    }
   }
  },
  {
   "cell_type": "code",
   "execution_count": 7,
   "outputs": [
    {
     "data": {
      "text/plain": "  0%|          | 0/25 [00:00<?, ?it/s]",
      "application/vnd.jupyter.widget-view+json": {
       "version_major": 2,
       "version_minor": 0,
       "model_id": "cb914bba556b44ad803bb44dbc50c08b"
      }
     },
     "metadata": {},
     "output_type": "display_data"
    }
   ],
   "source": [
    "source_toxicity = evaluate_style(\n",
    "    model=style_model,\n",
    "    tokenizer=style_tokenizer,\n",
    "    texts=toxic_inputs,\n",
    "    target_label=1,  # 1 is toxic, 0 is neutral\n",
    "    batch_size=32,\n",
    "    verbose=True\n",
    ")"
   ],
   "metadata": {
    "collapsed": false,
    "ExecuteTime": {
     "end_time": "2023-05-28T10:59:43.408899Z",
     "start_time": "2023-05-28T10:59:39.115246500Z"
    }
   }
  },
  {
   "cell_type": "code",
   "execution_count": 8,
   "outputs": [
    {
     "data": {
      "text/plain": "  0%|          | 0/25 [00:00<?, ?it/s]",
      "application/vnd.jupyter.widget-view+json": {
       "version_major": 2,
       "version_minor": 0,
       "model_id": "7d6684c5301546898562d779938de5f7"
      }
     },
     "metadata": {},
     "output_type": "display_data"
    }
   ],
   "source": [
    "caif_toxicity = evaluate_style(\n",
    "    model=style_model,\n",
    "    tokenizer=style_tokenizer,\n",
    "    texts=best_caif_samples,\n",
    "    target_label=1,  # 1 is toxic, 0 is neutral\n",
    "    batch_size=32,\n",
    "    verbose=True\n",
    ")"
   ],
   "metadata": {
    "collapsed": false,
    "ExecuteTime": {
     "end_time": "2023-05-28T10:59:44.621897800Z",
     "start_time": "2023-05-28T10:59:43.407900100Z"
    }
   }
  },
  {
   "cell_type": "code",
   "execution_count": 9,
   "outputs": [
    {
     "data": {
      "text/plain": "  0%|          | 0/25 [00:00<?, ?it/s]",
      "application/vnd.jupyter.widget-view+json": {
       "version_major": 2,
       "version_minor": 0,
       "model_id": "d9ad896889034ae98b62178e297668bc"
      }
     },
     "metadata": {},
     "output_type": "display_data"
    }
   ],
   "source": [
    "plain_toxicity = evaluate_style(\n",
    "    model=style_model,\n",
    "    tokenizer=style_tokenizer,\n",
    "    texts=best_plain_samples,\n",
    "    target_label=1,  # 1 is toxic, 0 is neutral\n",
    "    batch_size=32,\n",
    "    verbose=True\n",
    ")"
   ],
   "metadata": {
    "collapsed": false,
    "ExecuteTime": {
     "end_time": "2023-05-28T10:59:45.732174200Z",
     "start_time": "2023-05-28T10:59:44.622899300Z"
    }
   }
  },
  {
   "cell_type": "code",
   "execution_count": 10,
   "outputs": [],
   "source": [
    "toxicity_df = pd.DataFrame()\n",
    "toxicity_df['source_toxicity'] = source_toxicity\n",
    "toxicity_df['caif_toxicity'] = caif_toxicity\n",
    "toxicity_df['plain_toxicity'] = plain_toxicity"
   ],
   "metadata": {
    "collapsed": false,
    "ExecuteTime": {
     "end_time": "2023-05-28T10:59:45.748303500Z",
     "start_time": "2023-05-28T10:59:45.735174300Z"
    }
   }
  },
  {
   "cell_type": "code",
   "execution_count": 11,
   "outputs": [
    {
     "data": {
      "text/plain": "<AxesSubplot:xlabel='source_toxicity'>"
     },
     "execution_count": 11,
     "metadata": {},
     "output_type": "execute_result"
    },
    {
     "data": {
      "text/plain": "<Figure size 432x288 with 1 Axes>",
      "image/png": "[encoded data removed]"
     },
     "metadata": {},
     "output_type": "display_data"
    }
   ],
   "source": [
    "sns.boxplot(x='source_toxicity', data=toxicity_df)"
   ],
   "metadata": {
    "collapsed": false,
    "ExecuteTime": {
     "end_time": "2023-05-28T10:59:45.890295600Z",
     "start_time": "2023-05-28T10:59:45.757278500Z"
    }
   }
  },
  {
   "cell_type": "code",
   "execution_count": 12,
   "outputs": [],
   "source": [
    "data = toxicity_df"
   ],
   "metadata": {
    "collapsed": false,
    "ExecuteTime": {
     "end_time": "2023-05-28T10:59:45.917297200Z",
     "start_time": "2023-05-28T10:59:45.891297100Z"
    }
   }
  },
  {
   "cell_type": "code",
   "execution_count": 23,
   "outputs": [
    {
     "data": {
      "text/plain": "<Figure size 432x288 with 1 Axes>",
      "image/png": "[encoded data removed]"
     },
     "metadata": {},
     "output_type": "display_data"
    }
   ],
   "source": [
    "slope, intercept, r_value, p_value, std_err = linregress(data['source_toxicity'], data['caif_toxicity'])\n",
    "ax = sns.regplot(x='source_toxicity', y='caif_toxicity', data=data,\n",
    "                 line_kws={'label': f'y={round(slope, 3)}x+{round(intercept, 3)}'})\n",
    "ax.legend()\n",
    "fig = ax.get_figure()\n",
    "fig.savefig('img/caif_toxicity.pdf')"
   ],
   "metadata": {
    "collapsed": false,
    "ExecuteTime": {
     "end_time": "2023-05-28T11:06:37.004908600Z",
     "start_time": "2023-05-28T11:06:36.672908100Z"
    }
   }
  },
  {
   "cell_type": "code",
   "execution_count": 24,
   "outputs": [
    {
     "data": {
      "text/plain": "<Figure size 432x288 with 1 Axes>",
      "image/png": "[encoded data removed]"
     },
     "metadata": {},
     "output_type": "display_data"
    }
   ],
   "source": [
    "slope, intercept, r_value, p_value, std_err = linregress(data['source_toxicity'], data['plain_toxicity'])\n",
    "ax = sns.regplot(x='source_toxicity', y='plain_toxicity', data=data,\n",
    "                 line_kws={'label': f'y={round(slope, 3)}x+{round(intercept, 3)}'})\n",
    "ax.legend()\n",
    "fig = ax.get_figure()\n",
    "fig.savefig('img/plain_toxicity.pdf')"
   ],
   "metadata": {
    "collapsed": false,
    "ExecuteTime": {
     "end_time": "2023-05-28T11:06:52.988248700Z",
     "start_time": "2023-05-28T11:06:52.651244100Z"
    }
   }
  },
  {
   "cell_type": "code",
   "execution_count": 25,
   "outputs": [],
   "source": [
    "toxicity_ancova_df = pd.DataFrame()\n",
    "toxicity_ancova_df['model'] = ['caif'] * len(toxicity_df) + ['plain'] * len(toxicity_df)\n",
    "toxicity_ancova_df['model_toxicity'] = toxicity_df['caif_toxicity'].tolist() + toxicity_df['plain_toxicity'].tolist()\n",
    "toxicity_ancova_df['source_toxicity'] = toxicity_df['source_toxicity'].tolist() * 2"
   ],
   "metadata": {
    "collapsed": false,
    "ExecuteTime": {
     "end_time": "2023-05-28T11:06:59.950520200Z",
     "start_time": "2023-05-28T11:06:59.945488600Z"
    }
   }
  },
  {
   "cell_type": "code",
   "execution_count": 26,
   "outputs": [
    {
     "data": {
      "text/plain": "            Source          SS    DF          F     p-unc       np2\n0            model    1.671603     1  12.817794  0.000354  0.007962\n1  source_toxicity    1.802525     1  13.821699  0.000208  0.008581\n2         Residual  208.269081  1597        NaN       NaN       NaN",
      "text/html": "<div>\n<style scoped>\n    .dataframe tbody tr th:only-of-type {\n        vertical-align: middle;\n    }\n\n    .dataframe tbody tr th {\n        vertical-align: top;\n    }\n\n    .dataframe thead th {\n        text-align: right;\n    }\n</style>\n<table border=\"1\" class=\"dataframe\">\n  <thead>\n    <tr style=\"text-align: right;\">\n      <th></th>\n      <th>Source</th>\n      <th>SS</th>\n      <th>DF</th>\n      <th>F</th>\n      <th>p-unc</th>\n      <th>np2</th>\n    </tr>\n  </thead>\n  <tbody>\n    <tr>\n      <th>0</th>\n      <td>model</td>\n      <td>1.671603</td>\n      <td>1</td>\n      <td>12.817794</td>\n      <td>0.000354</td>\n      <td>0.007962</td>\n    </tr>\n    <tr>\n      <th>1</th>\n      <td>source_toxicity</td>\n      <td>1.802525</td>\n      <td>1</td>\n      <td>13.821699</td>\n      <td>0.000208</td>\n      <td>0.008581</td>\n    </tr>\n    <tr>\n      <th>2</th>\n      <td>Residual</td>\n      <td>208.269081</td>\n      <td>1597</td>\n      <td>NaN</td>\n      <td>NaN</td>\n      <td>NaN</td>\n    </tr>\n  </tbody>\n</table>\n</div>"
     },
     "execution_count": 26,
     "metadata": {},
     "output_type": "execute_result"
    }
   ],
   "source": [
    "ancova(data=toxicity_ancova_df, dv='model_toxicity', covar='source_toxicity', between='model')"
   ],
   "metadata": {
    "collapsed": false,
    "ExecuteTime": {
     "end_time": "2023-05-28T11:07:02.701759800Z",
     "start_time": "2023-05-28T11:07:00.310633Z"
    }
   }
  },
  {
   "cell_type": "code",
   "execution_count": null,
   "outputs": [],
   "source": [],
   "metadata": {
    "collapsed": false
   }
  }
 ],
 "metadata": {
  "kernelspec": {
   "display_name": "Python 3",
   "language": "python",
   "name": "python3"
  },
  "language_info": {
   "codemirror_mode": {
    "name": "ipython",
    "version": 2
   },
   "file_extension": ".py",
   "mimetype": "text/x-python",
   "name": "python",
   "nbconvert_exporter": "python",
   "pygments_lexer": "ipython2",
   "version": "2.7.6"
  }
 },
 "nbformat": 4,
 "nbformat_minor": 0
}
