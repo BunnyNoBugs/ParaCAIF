{
 "cells": [
  {
   "cell_type": "code",
   "execution_count": 1,
   "outputs": [],
   "source": [
    "import transformers\n",
    "transformers.logging.set_verbosity_error()"
   ],
   "metadata": {
    "collapsed": false
   }
  },
  {
   "cell_type": "code",
   "execution_count": 2,
   "outputs": [],
   "source": [
    "import pandas as pd\n",
    "from tqdm import tqdm\n",
    "from caif.inference import inference\n",
    "from transformers import AutoTokenizer\n",
    "from russian_paraphrasers.utils import clean"
   ],
   "metadata": {
    "collapsed": false
   }
  },
  {
   "cell_type": "code",
   "execution_count": 3,
   "outputs": [],
   "source": [
    "dev_df = pd.read_csv('data/input/dev.tsv', sep='\\t')\n",
    "toxic_inputs = dev_df['toxic_comment'].tolist()"
   ],
   "metadata": {
    "collapsed": false
   }
  },
  {
   "cell_type": "code",
   "execution_count": 4,
   "outputs": [],
   "source": [
    "#constants\n",
    "lm_checkpoint = 'alenusch/rugpt3-paraphraser'\n",
    "cls_checkpoint = 'BunnyNoBugs/rubert-tiny2-russe-toxicity'"
   ],
   "metadata": {
    "collapsed": false
   }
  },
  {
   "cell_type": "code",
   "execution_count": 5,
   "outputs": [],
   "source": [
    "tokenizer = AutoTokenizer.from_pretrained(lm_checkpoint)"
   ],
   "metadata": {
    "collapsed": false
   }
  },
  {
   "cell_type": "code",
   "execution_count": 6,
   "outputs": [],
   "source": [
    "sentence = 'я хочу тебя убить нахуй блядь пидорас сука'\n",
    "prompt = f'{sentence} === '"
   ],
   "metadata": {
    "collapsed": false
   }
  },
  {
   "cell_type": "code",
   "execution_count": 7,
   "outputs": [],
   "source": [
    "max_length = int(len(tokenizer.encode(prompt)) * 1.5 + 10)"
   ],
   "metadata": {
    "collapsed": false
   }
  },
  {
   "cell_type": "code",
   "execution_count": 9,
   "outputs": [],
   "source": [
    "result = inference(\n",
    "    lm_model_name=lm_checkpoint,\n",
    "    cls_model_name=cls_checkpoint,\n",
    "    prompt=prompt,\n",
    "    fp16=True,\n",
    "    alpha=10,\n",
    "    target_label_id=1,\n",
    "    entropy_threshold=0,\n",
    "    act_type='sigmoid',\n",
    "    num_tokens=30\n",
    ")"
   ],
   "metadata": {
    "collapsed": false
   }
  },
  {
   "cell_type": "code",
   "execution_count": 10,
   "outputs": [],
   "source": [
    "def caif_paraphrase(\n",
    "        text,\n",
    "        prompt_format,\n",
    "        tokenizer,\n",
    "        lm_model_name,\n",
    "        cls_model_name,\n",
    "        fp16=True,\n",
    "        alpha=-5,\n",
    "        target_label_id=1,\n",
    "        entropy_threshold=0,\n",
    "        act_type='sigmoid',\n",
    "        stop_token='</s>'\n",
    "):\n",
    "    prompt = prompt_format.format(text)\n",
    "    max_length = int(len(tokenizer.encode(prompt)) * 1.5 + 10)\n",
    "    output_text = inference(\n",
    "        lm_model_name=lm_model_name,\n",
    "        cls_model_name=cls_model_name,\n",
    "        prompt=prompt,\n",
    "        fp16=fp16,\n",
    "        alpha=alpha,\n",
    "        target_label_id=target_label_id,\n",
    "        entropy_threshold=entropy_threshold,\n",
    "        act_type=act_type,\n",
    "        num_tokens=max_length\n",
    "    )\n",
    "    output_text = output_text[: output_text.find(stop_token) if stop_token else None]\n",
    "    output_text = output_text[len(prompt):]\n",
    "    output_text = clean(output_text)\n",
    "\n",
    "    return output_text"
   ],
   "metadata": {
    "collapsed": false
   }
  },
  {
   "cell_type": "code",
   "execution_count": 11,
   "outputs": [
    {
     "data": {
      "text/plain": "'У вас чо за хуйня с башкой'"
     },
     "execution_count": 11,
     "metadata": {},
     "output_type": "execute_result"
    }
   ],
   "source": [
    "caif_paraphrase(\n",
    "    text='вы чо курите блять ?',\n",
    "    prompt_format='{} === ',\n",
    "    tokenizer=tokenizer,\n",
    "    lm_model_name=lm_checkpoint,\n",
    "    cls_model_name=cls_checkpoint\n",
    ")"
   ],
   "metadata": {
    "collapsed": false
   }
  },
  {
   "cell_type": "code",
   "execution_count": 13,
   "outputs": [
    {
     "name": "stderr",
     "output_type": "stream",
     "text": [
      "  0%|          | 0/800 [00:10<?, ?it/s]\n"
     ]
    },
    {
     "ename": "RuntimeError",
     "evalue": "CUDA error: device-side assert triggered\nCUDA kernel errors might be asynchronously reported at some other API call,so the stacktrace below might be incorrect.\nFor debugging consider passing CUDA_LAUNCH_BLOCKING=1.",
     "output_type": "error",
     "traceback": [
      "\u001B[1;31m---------------------------------------------------------------------------\u001B[0m",
      "\u001B[1;31mRuntimeError\u001B[0m                              Traceback (most recent call last)",
      "\u001B[1;32m<ipython-input-13-b218bd8f5111>\u001B[0m in \u001B[0;36m<module>\u001B[1;34m\u001B[0m\n\u001B[0;32m      1\u001B[0m \u001B[0mpara_results\u001B[0m \u001B[1;33m=\u001B[0m \u001B[1;33m[\u001B[0m\u001B[1;33m]\u001B[0m\u001B[1;33m\u001B[0m\u001B[1;33m\u001B[0m\u001B[0m\n\u001B[0;32m      2\u001B[0m \u001B[1;32mfor\u001B[0m \u001B[0mi\u001B[0m \u001B[1;32min\u001B[0m \u001B[0mtqdm\u001B[0m\u001B[1;33m(\u001B[0m\u001B[0mtoxic_inputs\u001B[0m\u001B[1;33m)\u001B[0m\u001B[1;33m:\u001B[0m\u001B[1;33m\u001B[0m\u001B[1;33m\u001B[0m\u001B[0m\n\u001B[1;32m----> 3\u001B[1;33m     para_result = caif_paraphrase(\n\u001B[0m\u001B[0;32m      4\u001B[0m         \u001B[0mtext\u001B[0m\u001B[1;33m=\u001B[0m\u001B[0mi\u001B[0m\u001B[1;33m,\u001B[0m\u001B[1;33m\u001B[0m\u001B[1;33m\u001B[0m\u001B[0m\n\u001B[0;32m      5\u001B[0m         \u001B[0mprompt_format\u001B[0m\u001B[1;33m=\u001B[0m\u001B[1;34m'{} === '\u001B[0m\u001B[1;33m,\u001B[0m\u001B[1;33m\u001B[0m\u001B[1;33m\u001B[0m\u001B[0m\n",
      "\u001B[1;32m<ipython-input-10-5e9ed6ee2bed>\u001B[0m in \u001B[0;36mcaif_paraphrase\u001B[1;34m(text, prompt_format, tokenizer, lm_model_name, cls_model_name, fp16, alpha, target_label_id, entropy_threshold, act_type, stop_token)\u001B[0m\n\u001B[0;32m     14\u001B[0m     \u001B[0mprompt\u001B[0m \u001B[1;33m=\u001B[0m \u001B[0mprompt_format\u001B[0m\u001B[1;33m.\u001B[0m\u001B[0mformat\u001B[0m\u001B[1;33m(\u001B[0m\u001B[0mtext\u001B[0m\u001B[1;33m)\u001B[0m\u001B[1;33m\u001B[0m\u001B[1;33m\u001B[0m\u001B[0m\n\u001B[0;32m     15\u001B[0m     \u001B[0mmax_length\u001B[0m \u001B[1;33m=\u001B[0m \u001B[0mint\u001B[0m\u001B[1;33m(\u001B[0m\u001B[0mlen\u001B[0m\u001B[1;33m(\u001B[0m\u001B[0mtokenizer\u001B[0m\u001B[1;33m.\u001B[0m\u001B[0mencode\u001B[0m\u001B[1;33m(\u001B[0m\u001B[0mprompt\u001B[0m\u001B[1;33m)\u001B[0m\u001B[1;33m)\u001B[0m \u001B[1;33m*\u001B[0m \u001B[1;36m1.5\u001B[0m \u001B[1;33m+\u001B[0m \u001B[1;36m10\u001B[0m\u001B[1;33m)\u001B[0m\u001B[1;33m\u001B[0m\u001B[1;33m\u001B[0m\u001B[0m\n\u001B[1;32m---> 16\u001B[1;33m     output_text = inference(\n\u001B[0m\u001B[0;32m     17\u001B[0m         \u001B[0mlm_model_name\u001B[0m\u001B[1;33m=\u001B[0m\u001B[0mlm_model_name\u001B[0m\u001B[1;33m,\u001B[0m\u001B[1;33m\u001B[0m\u001B[1;33m\u001B[0m\u001B[0m\n\u001B[0;32m     18\u001B[0m         \u001B[0mcls_model_name\u001B[0m\u001B[1;33m=\u001B[0m\u001B[0mcls_model_name\u001B[0m\u001B[1;33m,\u001B[0m\u001B[1;33m\u001B[0m\u001B[1;33m\u001B[0m\u001B[0m\n",
      "\u001B[1;32m~\\Женя\\GitHub\\Программирование\\russian-detoxification\\caif\\inference.py\u001B[0m in \u001B[0;36minference\u001B[1;34m(lm_model_name, cls_model_name, prompt, fp16, alpha, target_label_id, entropy_threshold, act_type, num_tokens)\u001B[0m\n\u001B[0;32m     48\u001B[0m     \u001B[1;32mwith\u001B[0m \u001B[0mautocast\u001B[0m\u001B[1;33m(\u001B[0m\u001B[0mfp16\u001B[0m\u001B[1;33m)\u001B[0m\u001B[1;33m:\u001B[0m\u001B[1;33m\u001B[0m\u001B[1;33m\u001B[0m\u001B[0m\n\u001B[0;32m     49\u001B[0m         \u001B[1;31m# print(f\"Generating for prompt: {prompt}\")\u001B[0m\u001B[1;33m\u001B[0m\u001B[1;33m\u001B[0m\u001B[1;33m\u001B[0m\u001B[0m\n\u001B[1;32m---> 50\u001B[1;33m         sequences, tokens = generator.sample_sequences(\n\u001B[0m\u001B[0;32m     51\u001B[0m             \u001B[0mnum_samples\u001B[0m\u001B[1;33m=\u001B[0m\u001B[1;36m1\u001B[0m\u001B[1;33m,\u001B[0m\u001B[1;33m\u001B[0m\u001B[1;33m\u001B[0m\u001B[0m\n\u001B[0;32m     52\u001B[0m             \u001B[0minput_prompt\u001B[0m\u001B[1;33m=\u001B[0m\u001B[0mprompt\u001B[0m\u001B[1;33m,\u001B[0m\u001B[1;33m\u001B[0m\u001B[1;33m\u001B[0m\u001B[0m\n",
      "\u001B[1;32m~\\Женя\\GitHub\\Программирование\\russian-detoxification\\caif\\generator.py\u001B[0m in \u001B[0;36msample_sequences\u001B[1;34m(self, num_samples, input_prompt, max_length, caif_period, caif_tokens_num, entropy, progress_bar, **sampler_kwargs)\u001B[0m\n\u001B[0;32m     50\u001B[0m         \u001B[0mself\u001B[0m\u001B[1;33m.\u001B[0m\u001B[0mentropy\u001B[0m \u001B[1;33m=\u001B[0m \u001B[0mentropy\u001B[0m\u001B[1;33m\u001B[0m\u001B[1;33m\u001B[0m\u001B[0m\n\u001B[0;32m     51\u001B[0m \u001B[1;33m\u001B[0m\u001B[0m\n\u001B[1;32m---> 52\u001B[1;33m         input_ids, past, ended_sequences = self.get_input_ids(\n\u001B[0m\u001B[0;32m     53\u001B[0m             \u001B[0minput_prompt\u001B[0m\u001B[1;33m,\u001B[0m\u001B[1;33m\u001B[0m\u001B[1;33m\u001B[0m\u001B[0m\n\u001B[0;32m     54\u001B[0m             \u001B[0mnum_samples\u001B[0m\u001B[1;33m,\u001B[0m\u001B[1;33m\u001B[0m\u001B[1;33m\u001B[0m\u001B[0m\n",
      "\u001B[1;32m~\\Женя\\GitHub\\Программирование\\russian-detoxification\\caif\\generator.py\u001B[0m in \u001B[0;36mget_input_ids\u001B[1;34m(self, input_prompt, num_samples)\u001B[0m\n\u001B[0;32m    227\u001B[0m             ).input_ids\n\u001B[0;32m    228\u001B[0m             \u001B[0minput_ids\u001B[0m \u001B[1;33m=\u001B[0m \u001B[0minput_prompt\u001B[0m\u001B[1;33m\u001B[0m\u001B[1;33m\u001B[0m\u001B[0m\n\u001B[1;32m--> 229\u001B[1;33m         \u001B[0minput_ids\u001B[0m \u001B[1;33m=\u001B[0m \u001B[0minput_ids\u001B[0m\u001B[1;33m.\u001B[0m\u001B[0mrepeat\u001B[0m\u001B[1;33m(\u001B[0m\u001B[0mnum_samples\u001B[0m\u001B[1;33m,\u001B[0m \u001B[1;36m1\u001B[0m\u001B[1;33m)\u001B[0m\u001B[1;33m.\u001B[0m\u001B[0mto\u001B[0m\u001B[1;33m(\u001B[0m\u001B[0mself\u001B[0m\u001B[1;33m.\u001B[0m\u001B[0mdevice\u001B[0m\u001B[1;33m)\u001B[0m\u001B[1;33m\u001B[0m\u001B[1;33m\u001B[0m\u001B[0m\n\u001B[0m\u001B[0;32m    230\u001B[0m         \u001B[0mpast\u001B[0m \u001B[1;33m=\u001B[0m \u001B[1;32mNone\u001B[0m\u001B[1;33m\u001B[0m\u001B[1;33m\u001B[0m\u001B[0m\n\u001B[0;32m    231\u001B[0m         ended_sequences = torch.zeros(\n",
      "\u001B[1;31mRuntimeError\u001B[0m: CUDA error: device-side assert triggered\nCUDA kernel errors might be asynchronously reported at some other API call,so the stacktrace below might be incorrect.\nFor debugging consider passing CUDA_LAUNCH_BLOCKING=1."
     ]
    }
   ],
   "source": [
    "para_results = []\n",
    "for i in tqdm(toxic_inputs):\n",
    "    para_result = caif_paraphrase(\n",
    "        text=i,\n",
    "        prompt_format='{} === ',\n",
    "        tokenizer=tokenizer,\n",
    "        lm_model_name=lm_checkpoint,\n",
    "        cls_model_name=cls_checkpoint,\n",
    "        fp16=True,\n",
    "        alpha=-5,\n",
    "        target_label_id=1,\n",
    "        entropy_threshold=1.0,\n",
    "    )\n",
    "    print(para_result)\n",
    "    para_results.append(para_result)"
   ],
   "metadata": {
    "collapsed": false
   }
  },
  {
   "cell_type": "code",
   "execution_count": null,
   "outputs": [],
   "source": [],
   "metadata": {
    "collapsed": false
   }
  }
 ],
 "metadata": {
  "kernelspec": {
   "display_name": "Python 3",
   "language": "python",
   "name": "python3"
  },
  "language_info": {
   "codemirror_mode": {
    "name": "ipython",
    "version": 2
   },
   "file_extension": ".py",
   "mimetype": "text/x-python",
   "name": "python",
   "nbconvert_exporter": "python",
   "pygments_lexer": "ipython2",
   "version": "2.7.6"
  }
 },
 "nbformat": 4,
 "nbformat_minor": 0
}
