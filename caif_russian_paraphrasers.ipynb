{
 "cells": [
  {
   "cell_type": "code",
   "execution_count": 1,
   "outputs": [],
   "source": [
    "import transformers\n",
    "transformers.logging.set_verbosity_error()\n",
    "transformers.set_seed(42)"
   ],
   "metadata": {
    "collapsed": false
   }
  },
  {
   "cell_type": "code",
   "execution_count": 2,
   "outputs": [],
   "source": [
    "import pandas as pd\n",
    "from tqdm import tqdm\n",
    "from transformers import GPT2LMHeadModel, GPT2Tokenizer, AutoModelForSequenceClassification, AutoTokenizer\n",
    "from russian_paraphrasers_inference import rp_gpt_paraphrase, caif_rp_gpt_paraphrase\n",
    "from filter_paraphrases import filter_paraphrases, convert_results_to_df\n",
    "import pickle"
   ],
   "metadata": {
    "collapsed": false
   }
  },
  {
   "cell_type": "code",
   "execution_count": 20,
   "outputs": [],
   "source": [
    "dev_df = pd.read_csv('data/input/dev.tsv', sep='\\t')\n",
    "toxic_inputs = dev_df['toxic_comment'].tolist()"
   ],
   "metadata": {
    "collapsed": false
   }
  },
  {
   "cell_type": "code",
   "execution_count": 4,
   "outputs": [],
   "source": [
    "#constants\n",
    "lm_checkpoint = 'alenusch/rugpt3-paraphraser'\n",
    "model_name = lm_checkpoint.split('/')[1]\n",
    "cls_checkpoint = 'BunnyNoBugs/rubert-tiny2-russe-toxicity'\n",
    "max_tries = 10"
   ],
   "metadata": {
    "collapsed": false
   }
  },
  {
   "cell_type": "code",
   "execution_count": 5,
   "outputs": [],
   "source": [
    "filter_cls_model = AutoModelForSequenceClassification.from_pretrained(cls_checkpoint)\n",
    "filter_tokenizer = AutoTokenizer.from_pretrained(cls_checkpoint)\n",
    "filter_cls_model.cuda();"
   ],
   "metadata": {
    "collapsed": false
   }
  },
  {
   "cell_type": "markdown",
   "source": [
    "## Ordinary sampling"
   ],
   "metadata": {
    "collapsed": false
   }
  },
  {
   "cell_type": "code",
   "execution_count": 6,
   "outputs": [],
   "source": [
    "model = GPT2LMHeadModel.from_pretrained(lm_checkpoint)\n",
    "tokenizer = GPT2Tokenizer.from_pretrained(lm_checkpoint)\n",
    "model.cuda();"
   ],
   "metadata": {
    "collapsed": false
   }
  },
  {
   "cell_type": "code",
   "execution_count": 7,
   "outputs": [
    {
     "data": {
      "text/plain": "'Иди от него подальше'"
     },
     "execution_count": 7,
     "metadata": {},
     "output_type": "execute_result"
    }
   ],
   "source": [
    "rp_gpt_paraphrase(\n",
    "    'Иди нафиг.',\n",
    "    model,\n",
    "    tokenizer,\n",
    "    temperature=1,\n",
    "    top_k=20,\n",
    "    top_p=1.0,\n",
    "    repetition_penalty=1.0,\n",
    "    do_sample=True,\n",
    "    num_return_sequences=1\n",
    ")"
   ],
   "metadata": {
    "collapsed": false
   }
  },
  {
   "cell_type": "code",
   "execution_count": 8,
   "outputs": [],
   "source": [
    "rp_kwargs = {\n",
    "    'model': model,\n",
    "    'tokenizer': tokenizer,\n",
    "    'temperature': 1,\n",
    "    'top_k': 20,\n",
    "    'top_p': 1.0,\n",
    "    'repetition_penalty': 1.0,\n",
    "    'do_sample': True,\n",
    "    'num_return_sequences': 1\n",
    "}"
   ],
   "metadata": {
    "collapsed": false
   }
  },
  {
   "cell_type": "code",
   "execution_count": 9,
   "outputs": [
    {
     "name": "stderr",
     "output_type": "stream",
     "text": [
      "100%|██████████| 1/1 [00:02<00:00,  2.30s/it]\n"
     ]
    }
   ],
   "source": [
    "para_results = []\n",
    "for i in tqdm(toxic_inputs):\n",
    "    rp_kwargs['text'] = i\n",
    "    para_result = filter_paraphrases(\n",
    "        paraphrase_func=rp_gpt_paraphrase,\n",
    "        paraphrase_kwargs=rp_kwargs,\n",
    "        filter_cls_model=filter_cls_model,\n",
    "        filter_tokenizer=filter_tokenizer,\n",
    "        max_tries=10\n",
    "    )\n",
    "    para_results.append(para_result)"
   ],
   "metadata": {
    "collapsed": false
   }
  },
  {
   "cell_type": "code",
   "execution_count": 11,
   "outputs": [],
   "source": [
    "results_path = f'data/filter_paraphrases_results/{model_name}-max-{max_tries}'\n",
    "results_df = convert_results_to_df(para_results)\n",
    "results_df.to_csv(f'{results_path}_dev.csv')\n",
    "with open(f'{results_path}_dev.pickle', 'wb') as f:\n",
    "    pickle.dump(para_results, f)"
   ],
   "metadata": {
    "collapsed": false
   }
  },
  {
   "cell_type": "code",
   "execution_count": 12,
   "outputs": [
    {
     "data": {
      "text/plain": "4.0"
     },
     "execution_count": 12,
     "metadata": {},
     "output_type": "execute_result"
    }
   ],
   "source": [
    "results_df['num_tries'].mean()"
   ],
   "metadata": {
    "collapsed": false
   }
  },
  {
   "cell_type": "markdown",
   "source": [
    "## CAIF sampling"
   ],
   "metadata": {
    "collapsed": false
   }
  },
  {
   "cell_type": "code",
   "execution_count": 10,
   "outputs": [],
   "source": [
    "caif_paraphrase_kwargs = {\n",
    "    'lm_model_name': lm_checkpoint,\n",
    "    'cls_model_name': cls_checkpoint,\n",
    "    'fp16': True,\n",
    "    'alpha': -5,\n",
    "    'target_label_id': 1,\n",
    "    'entropy_threshold': 0,\n",
    "}"
   ],
   "metadata": {
    "collapsed": false
   }
  },
  {
   "cell_type": "code",
   "execution_count": 11,
   "outputs": [
    {
     "data": {
      "text/plain": "'Иди домой и в безопасности'"
     },
     "execution_count": 11,
     "metadata": {},
     "output_type": "execute_result"
    }
   ],
   "source": [
    "caif_rp_gpt_paraphrase(\n",
    "    'Иди нафиг.',\n",
    "    lm_model_name=lm_checkpoint,\n",
    "    cls_model_name=cls_checkpoint,\n",
    "    fp16=True,\n",
    "    alpha=-5,\n",
    "    target_label_id=1,\n",
    "    entropy_threshold=0,\n",
    ")"
   ],
   "metadata": {
    "collapsed": false
   }
  },
  {
   "cell_type": "code",
   "execution_count": null,
   "outputs": [
    {
     "name": "stderr",
     "output_type": "stream",
     "text": [
      "  8%|▊         | 65/800 [13:00<2:59:00, 14.61s/it]"
     ]
    }
   ],
   "source": [
    "para_results = []\n",
    "for i in tqdm(toxic_inputs):\n",
    "    caif_paraphrase_kwargs['text'] = i\n",
    "    para_result = filter_paraphrases(\n",
    "        paraphrase_func=caif_rp_gpt_paraphrase,\n",
    "        paraphrase_kwargs=caif_paraphrase_kwargs,\n",
    "        filter_cls_model=filter_cls_model,\n",
    "        filter_tokenizer=filter_tokenizer,\n",
    "        max_tries=10\n",
    "    )\n",
    "    para_results.append(para_result)"
   ],
   "metadata": {
    "collapsed": false,
    "pycharm": {
     "is_executing": true
    }
   }
  },
  {
   "cell_type": "code",
   "execution_count": null,
   "outputs": [],
   "source": [
    "results_path = f'data/filter_paraphrases_results/caif-{model_name}-max-{max_tries}'\n",
    "results_df = convert_results_to_df(para_results)\n",
    "results_df.to_csv(f'{results_path}_dev.csv')\n",
    "with open(f'{results_path}_dev.pickle', 'wb') as f:\n",
    "    pickle.dump(para_results, f)"
   ],
   "metadata": {
    "collapsed": false,
    "pycharm": {
     "is_executing": true
    }
   }
  },
  {
   "cell_type": "code",
   "execution_count": null,
   "outputs": [],
   "source": [
    "results_df['num_tries'].mean()"
   ],
   "metadata": {
    "collapsed": false,
    "pycharm": {
     "is_executing": true
    }
   }
  },
  {
   "cell_type": "code",
   "execution_count": null,
   "outputs": [],
   "source": [
    "with open(f'data/output/caif-{model_name}-max-10_dev.txt', 'w', encoding='utf-8') as file:\n",
    "    file.writelines([sentence + '\\n' for sentence in results_df['best_para_text']])"
   ],
   "metadata": {
    "collapsed": false,
    "pycharm": {
     "is_executing": true
    }
   }
  },
  {
   "cell_type": "code",
   "execution_count": null,
   "outputs": [],
   "source": [],
   "metadata": {
    "collapsed": false
   }
  }
 ],
 "metadata": {
  "kernelspec": {
   "display_name": "Python 3",
   "language": "python",
   "name": "python3"
  },
  "language_info": {
   "codemirror_mode": {
    "name": "ipython",
    "version": 2
   },
   "file_extension": ".py",
   "mimetype": "text/x-python",
   "name": "python",
   "nbconvert_exporter": "python",
   "pygments_lexer": "ipython2",
   "version": "2.7.6"
  }
 },
 "nbformat": 4,
 "nbformat_minor": 0
}
