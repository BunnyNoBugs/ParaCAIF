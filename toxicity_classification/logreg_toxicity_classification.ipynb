{
 "nbformat": 4,
 "nbformat_minor": 0,
 "metadata": {
  "colab": {
   "provenance": [],
   "toc_visible": true
  },
  "kernelspec": {
   "name": "python3",
   "display_name": "Python 3"
  },
  "language_info": {
   "name": "python"
  }
 },
 "cells": [
  {
   "cell_type": "markdown",
   "source": [
    "# Logreg toxicity classification"
   ],
   "metadata": {
    "id": "MY7VLbe3NMuf"
   }
  },
  {
   "cell_type": "code",
   "source": [
    "import pandas as pd\n",
    "from sklearn.feature_extraction.text import TfidfVectorizer\n",
    "from sklearn.linear_model import LogisticRegression\n",
    "from sklearn.metrics import classification_report\n",
    "import nltk\n",
    "nltk.download('stopwords')\n",
    "from nltk.corpus import stopwords\n",
    "import spacy"
   ],
   "metadata": {
    "id": "2Kdv7jHS43B-",
    "colab": {
     "base_uri": "https://localhost:8080/"
    },
    "outputId": "12f28d03-b95f-4c0e-d3a4-864c067a1954"
   },
   "execution_count": 1,
   "outputs": [
    {
     "name": "stderr",
     "output_type": "stream",
     "text": [
      "[nltk_data] Downloading package stopwords to\n",
      "[nltk_data]     C:\\Users\\User\\AppData\\Roaming\\nltk_data...\n",
      "[nltk_data]   Unzipping corpora\\stopwords.zip.\n"
     ]
    }
   ]
  },
  {
   "cell_type": "code",
   "source": [
    "STOPWORDS = stopwords.words('russian')"
   ],
   "metadata": {
    "id": "ZVX5jK8MI7_p"
   },
   "execution_count": 2,
   "outputs": []
  },
  {
   "cell_type": "code",
   "source": [
    "train_df = pd.read_csv('../data/toxicity_classification/classification_train.csv')\n",
    "dev_df = pd.read_csv('../data/toxicity_classification/classification_dev.csv')"
   ],
   "metadata": {
    "id": "lv2ORYDz48Ua"
   },
   "execution_count": 3,
   "outputs": []
  },
  {
   "cell_type": "code",
   "source": [
    "train_df"
   ],
   "metadata": {
    "colab": {
     "base_uri": "https://localhost:8080/",
     "height": 423
    },
    "id": "gwFs4Rps9X1f",
    "outputId": "9758ced0-ce82-4a51-8fda-5af3a427e99a"
   },
   "execution_count": 4,
   "outputs": [
    {
     "data": {
      "text/plain": "                                                    text    label\n0      и,чё,блядь где этот херой был до этого со свои...    toxic\n1                         О, а есть деанон этого петуха?    toxic\n2       херну всякую пишут,из-за этого лайка.долбоебизм.    toxic\n3                      из за таких пидоров мы и страдаем    toxic\n4                        гондон путинский он а не артист    toxic\n...                                                  ...      ...\n13891  Пусть его уже закроют до конца его дней, он же...  neutral\n13892                     твоя химия - это просто кошмар  neutral\n13893             меня изнасиловали,а тебе всё равно (((  neutral\n13894                Когда напьюсь - на маньяка похож...  neutral\n13895                     Паша слава кинул бедных женщин  neutral\n\n[13896 rows x 2 columns]",
      "text/html": "<div>\n<style scoped>\n    .dataframe tbody tr th:only-of-type {\n        vertical-align: middle;\n    }\n\n    .dataframe tbody tr th {\n        vertical-align: top;\n    }\n\n    .dataframe thead th {\n        text-align: right;\n    }\n</style>\n<table border=\"1\" class=\"dataframe\">\n  <thead>\n    <tr style=\"text-align: right;\">\n      <th></th>\n      <th>text</th>\n      <th>label</th>\n    </tr>\n  </thead>\n  <tbody>\n    <tr>\n      <th>0</th>\n      <td>и,чё,блядь где этот херой был до этого со свои...</td>\n      <td>toxic</td>\n    </tr>\n    <tr>\n      <th>1</th>\n      <td>О, а есть деанон этого петуха?</td>\n      <td>toxic</td>\n    </tr>\n    <tr>\n      <th>2</th>\n      <td>херну всякую пишут,из-за этого лайка.долбоебизм.</td>\n      <td>toxic</td>\n    </tr>\n    <tr>\n      <th>3</th>\n      <td>из за таких пидоров мы и страдаем</td>\n      <td>toxic</td>\n    </tr>\n    <tr>\n      <th>4</th>\n      <td>гондон путинский он а не артист</td>\n      <td>toxic</td>\n    </tr>\n    <tr>\n      <th>...</th>\n      <td>...</td>\n      <td>...</td>\n    </tr>\n    <tr>\n      <th>13891</th>\n      <td>Пусть его уже закроют до конца его дней, он же...</td>\n      <td>neutral</td>\n    </tr>\n    <tr>\n      <th>13892</th>\n      <td>твоя химия - это просто кошмар</td>\n      <td>neutral</td>\n    </tr>\n    <tr>\n      <th>13893</th>\n      <td>меня изнасиловали,а тебе всё равно (((</td>\n      <td>neutral</td>\n    </tr>\n    <tr>\n      <th>13894</th>\n      <td>Когда напьюсь - на маньяка похож...</td>\n      <td>neutral</td>\n    </tr>\n    <tr>\n      <th>13895</th>\n      <td>Паша слава кинул бедных женщин</td>\n      <td>neutral</td>\n    </tr>\n  </tbody>\n</table>\n<p>13896 rows × 2 columns</p>\n</div>"
     },
     "execution_count": 4,
     "metadata": {},
     "output_type": "execute_result"
    }
   ]
  },
  {
   "cell_type": "markdown",
   "source": [
    "## No stopwords"
   ],
   "metadata": {
    "id": "TdpE5DfBNJYi"
   }
  },
  {
   "cell_type": "code",
   "source": [
    "vectorizer = TfidfVectorizer(stop_words=None)"
   ],
   "metadata": {
    "id": "3MlGkJHs_CKS"
   },
   "execution_count": 5,
   "outputs": []
  },
  {
   "cell_type": "code",
   "source": [
    "X_train = vectorizer.fit_transform(train_df['text'])\n",
    "X_dev = vectorizer.transform(dev_df['text'])"
   ],
   "metadata": {
    "id": "naS71UsbBY3x"
   },
   "execution_count": 6,
   "outputs": []
  },
  {
   "cell_type": "code",
   "source": [
    "clf = LogisticRegression()\n",
    "clf.fit(X_train, train_df['label'])\n",
    "y_pred = clf.predict(X_dev)\n",
    "print(classification_report(dev_df['label'], y_pred))"
   ],
   "metadata": {
    "colab": {
     "base_uri": "https://localhost:8080/"
    },
    "id": "-QZiUO1iBo2K",
    "outputId": "62cb30da-841b-4ac7-ecf5-336451ca13f4"
   },
   "execution_count": 7,
   "outputs": [
    {
     "name": "stdout",
     "output_type": "stream",
     "text": [
      "              precision    recall  f1-score   support\n",
      "\n",
      "     neutral       0.77      0.93      0.84       800\n",
      "       toxic       0.91      0.72      0.81       800\n",
      "\n",
      "    accuracy                           0.83      1600\n",
      "   macro avg       0.84      0.83      0.83      1600\n",
      "weighted avg       0.84      0.83      0.83      1600\n",
      "\n"
     ]
    }
   ]
  },
  {
   "cell_type": "code",
   "execution_count": 35,
   "outputs": [],
   "source": [
    "words_coefs = {word: coef for word, coef in zip(vectorizer.get_feature_names_out(), clf.coef_.squeeze())}"
   ],
   "metadata": {
    "collapsed": false
   }
  },
  {
   "cell_type": "code",
   "execution_count": 75,
   "outputs": [
    {
     "data": {
      "text/plain": "208"
     },
     "execution_count": 75,
     "metadata": {},
     "output_type": "execute_result"
    }
   ],
   "source": [
    "bad_words = {word: coef for word, coef in words_coefs.items() if coef > 1}\n",
    "len(bad_words)"
   ],
   "metadata": {
    "collapsed": false
   }
  },
  {
   "cell_type": "code",
   "execution_count": 76,
   "outputs": [
    {
     "data": {
      "text/plain": "{'99': 2.023861506544052,\n 'gt': 1.2330937881406328,\n 'ахуеть': 2.2028296849712965,\n 'бл': 2.719850339575442,\n 'бля': 6.833198857023797,\n 'блядей': 1.7439862437662201,\n 'бляди': 2.3939066923878736,\n 'блядство': 1.1688014321758764,\n 'блядь': 6.572862268203039,\n 'блять': 9.180646487638752,\n 'бляя': 2.3104609141985932,\n 'бляяя': 1.6592343832824903,\n 'быдло': 1.8334312442367493,\n 'гавно': 1.0542049408538703,\n 'гандон': 1.6713292244277582,\n 'гнида': 1.1669482199468202,\n 'говно': 3.502582073245874,\n 'дебил': 3.7260984536906308,\n 'дебилов': 1.7821341056769906,\n 'дебилы': 3.622482105305647,\n 'дерьмо': 2.7620272746326417,\n 'дибил': 1.4724345044498364,\n 'долбаеб': 1.6535546948721649,\n 'долбаебы': 1.8035956327531233,\n 'долбаёбы': 1.0383508416803733,\n 'долбоеб': 2.952916198508164,\n 'долбоебов': 1.842404845752098,\n 'долбоебы': 1.9302555262604273,\n 'долбоёб': 1.6510749704176662,\n 'долбоёбы': 1.883772140634431,\n 'дохуя': 1.7586177298542949,\n 'дура': 3.4634692585368345,\n 'дурак': 1.3059065221255044,\n 'дуры': 1.123346757369364,\n 'ебал': 1.6843072894362827,\n 'ебало': 1.063190720411488,\n 'ебальник': 1.2466547726220185,\n 'ебаная': 2.573879062554606,\n 'ебанутая': 1.5658231857415148,\n 'ебанутые': 1.9090053815138865,\n 'ебанутый': 2.366261780852408,\n 'ебанутых': 1.468065779785616,\n 'ебаные': 1.6547412762936229,\n 'ебаный': 2.581918045145924,\n 'ебать': 4.784531419112137,\n 'еблан': 2.0166509967234374,\n 'ебло': 1.353851357680857,\n 'ебнутая': 1.0963940319691678,\n 'ебу': 1.4509013880678059,\n 'ебут': 1.1403886659337703,\n 'ебучая': 1.1868208324386118,\n 'ебёт': 1.0213789129401079,\n 'жопа': 3.347167696038848,\n 'жопе': 1.5958376507940717,\n 'жопу': 4.020638929089133,\n 'жопы': 1.362171476336422,\n 'жрать': 1.3274531957997513,\n 'задницу': 1.788079316087323,\n 'заебал': 2.8789576517070827,\n 'заебала': 2.4902074798526406,\n 'заебалась': 2.5197232830632816,\n 'заебали': 3.738823068558261,\n 'заебало': 1.4435045927000962,\n 'заебался': 1.4383033566211425,\n 'заебись': 1.9401517222755629,\n 'збс': 1.1794183475960773,\n 'идиот': 2.067555281506897,\n 'идиотка': 1.2406468303891403,\n 'идиоты': 2.4620649898632196,\n 'какого': 1.7371263119458946,\n 'кароч': 1.146970295411336,\n 'козел': 1.4553047795292642,\n 'козлы': 1.536234756922934,\n 'кол': 1.637490077302575,\n 'лох': 2.981024576539834,\n 'миня': 1.1038579649009517,\n 'мрази': 2.432763425542396,\n 'мразь': 4.1316873661126055,\n 'мудак': 3.700771078473468,\n 'мудаки': 1.2710827757119183,\n 'мудила': 1.2089965357360646,\n 'насрать': 1.1097318600339254,\n 'нах': 1.352699834257419,\n 'нахер': 2.4079165804593194,\n 'нахуй': 5.768536198969722,\n 'нахуя': 1.1224087889825618,\n 'нехуй': 1.7822475509555487,\n 'нихуя': 2.8393937408907033,\n 'о_о': 1.100701026362391,\n 'овца': 1.131897909395312,\n 'оторвать': 1.4224094818331647,\n 'охуел': 1.7570939990411532,\n 'охуели': 1.4720712678036842,\n 'охуенно': 1.7006187205882988,\n 'охуеть': 1.8225634889378404,\n 'падла': 2.1689732719167365,\n 'пздц': 2.1166672342345345,\n 'пидар': 2.1047631952655967,\n 'пидара': 1.4026622405571476,\n 'пидарас': 2.1496378566539573,\n 'пидарасов': 1.099793215173863,\n 'пидарасы': 2.851583879731961,\n 'пидары': 1.9441838865018295,\n 'пидор': 4.694056031788088,\n 'пидора': 2.0620182219747485,\n 'пидорам': 1.0170065743882957,\n 'пидорас': 1.8322469211382293,\n 'пидораса': 1.094080180143501,\n 'пидорасов': 1.6103433413696417,\n 'пидорасы': 2.4985211854488867,\n 'пидоров': 1.6778320701925504,\n 'пидором': 1.0254622011664776,\n 'пидоры': 3.7742643676649954,\n 'пидр': 2.391883488302533,\n 'пизда': 4.618829317120487,\n 'пиздабол': 1.375752856889282,\n 'пиздаболы': 1.0863513295407397,\n 'пиздеть': 2.3517699454553798,\n 'пиздец': 10.446258334145469,\n 'пиздешь': 1.1786139026763227,\n 'пизди': 1.5171048162293745,\n 'пиздит': 1.4739537537078773,\n 'пиздить': 1.1927075355984238,\n 'пиздос': 1.5389443550676183,\n 'пизду': 1.3403570721422147,\n 'пиздуй': 1.0282990430095627,\n 'пизды': 2.4353636733192,\n 'пиздюк': 1.401308375196703,\n 'пиздюлей': 2.0048818035117697,\n 'пиздят': 1.3540591966748823,\n 'пиндосы': 1.4003606993160387,\n 'похуй': 3.51867217776522,\n 'придурки': 1.415923342452786,\n 'придурок': 3.0240526674964907,\n 'проебал': 1.388965180170743,\n 'проебала': 1.664538232169983,\n 'расстрелять': 1.5610882679544051,\n 'рот': 1.6655195205650901,\n 'сволочи': 1.5115630096680064,\n 'сволочь': 2.6570872122947,\n 'ска': 2.1038058528146797,\n 'скотина': 1.9248899033155393,\n 'сосать': 1.086408274897295,\n 'стадо': 1.231632130951661,\n 'старый': 1.0280028144877353,\n 'стрелять': 1.1063311804985856,\n 'сук': 2.533475032592264,\n 'сука': 9.007827493254508,\n 'сукааа': 1.1306718203160218,\n 'суки': 5.1468932407953165,\n 'сучка': 2.338322382529991,\n 'тварей': 2.0533933351776636,\n 'твари': 4.638913294359215,\n 'тварь': 4.031567517299488,\n 'твою': 1.110726106446733,\n 'трахаться': 1.1535033138284287,\n 'трахнуть': 1.3251430951475378,\n 'тупая': 1.7136746024392566,\n 'тупое': 1.0398511086632414,\n 'тупой': 1.9873213412256676,\n 'тупые': 1.3309471785552445,\n 'тупых': 1.1099169941178166,\n 'убивать': 1.0151522945281046,\n 'убить': 1.2676494382036958,\n 'ублюдки': 2.13852304776517,\n 'ублюдков': 1.2322207321050525,\n 'ублюдок': 2.313335483305352,\n 'уебан': 1.1678669581909016,\n 'уебище': 1.6462358499692868,\n 'уебки': 1.0415747146505194,\n 'уебок': 1.7207968593032998,\n 'урод': 3.2717147274085714,\n 'урода': 1.1847624192659063,\n 'уродов': 2.987608884959307,\n 'уроды': 4.168986577996584,\n 'уёбок': 1.0954140903895333,\n 'хер': 2.6999362615367186,\n 'хера': 1.5463330763673417,\n 'херня': 1.4349212506313298,\n 'хз': 1.1097167113443087,\n 'хохлов': 1.868531627891873,\n 'хохлы': 1.7521569095935214,\n 'хохол': 1.0620181486930358,\n 'хрен': 1.6160029300196812,\n 'хрена': 1.4889262189670474,\n 'хуева': 1.0942053209049074,\n 'хуево': 2.715379538531212,\n 'хуета': 1.0629078670045058,\n 'хуй': 6.368617279127338,\n 'хуйло': 1.8901608982572338,\n 'хуйней': 1.0417018947535364,\n 'хуйню': 3.5172820734563324,\n 'хуйня': 4.248973278576613,\n 'хули': 2.195214210404882,\n 'хуя': 3.0701442531786953,\n 'хуёво': 1.1599246407180128,\n 'че': 1.120933097087782,\n 'чмо': 3.3956189347572048,\n 'чо': 2.1499760128969605,\n 'чтоб': 1.0992715751922386,\n 'чувак': 1.0108840431884913,\n 'чё': 1.288424524525608,\n 'шлюх': 1.0978804134301061,\n 'шлюха': 2.150088419779492,\n 'эта': 1.2482717500248819,\n 'этих': 1.3220116474003798,\n 'эту': 1.5653069292645037,\n 'яйца': 1.3747149144223334}"
     },
     "execution_count": 76,
     "metadata": {},
     "output_type": "execute_result"
    }
   ],
   "source": [
    "bad_words"
   ],
   "metadata": {
    "collapsed": false
   }
  },
  {
   "cell_type": "markdown",
   "source": [
    "## NLTK stopwords"
   ],
   "metadata": {
    "id": "HLUREz5xM3eW"
   }
  },
  {
   "cell_type": "code",
   "source": [
    "vectorizer = TfidfVectorizer(stop_words=STOPWORDS)"
   ],
   "metadata": {
    "id": "10reV79qH-Pp"
   },
   "execution_count": null,
   "outputs": []
  },
  {
   "cell_type": "code",
   "source": [
    "X_train = vectorizer.fit_transform(train_df['text'])\n",
    "X_dev = vectorizer.transform(dev_df['text'])"
   ],
   "metadata": {
    "id": "0l24IZgoMs4e"
   },
   "execution_count": null,
   "outputs": []
  },
  {
   "cell_type": "code",
   "source": [
    "clf = LogisticRegression()\n",
    "clf.fit(X_train, train_df['label'])\n",
    "y_pred = clf.predict(X_dev)\n",
    "print(classification_report(dev_df['label'], y_pred))"
   ],
   "metadata": {
    "colab": {
     "base_uri": "https://localhost:8080/"
    },
    "id": "r8MqUYTtMtuV",
    "outputId": "724d48e6-1543-4ba0-ab46-ad2f4b74c614"
   },
   "execution_count": null,
   "outputs": [
    {
     "output_type": "stream",
     "name": "stdout",
     "text": [
      "              precision    recall  f1-score   support\n",
      "\n",
      "     neutral       0.77      0.96      0.86       800\n",
      "       toxic       0.95      0.71      0.81       800\n",
      "\n",
      "    accuracy                           0.84      1600\n",
      "   macro avg       0.86      0.84      0.83      1600\n",
      "weighted avg       0.86      0.84      0.83      1600\n",
      "\n"
     ]
    }
   ]
  },
  {
   "cell_type": "markdown",
   "source": [
    "## Spacy lemmatization"
   ],
   "metadata": {
    "id": "vlHYF0GXNCJ_"
   }
  },
  {
   "cell_type": "code",
   "source": [
    "nlp = spacy.load('ru_core_news_lg')"
   ],
   "metadata": {
    "id": "oKM8TzQXKfec"
   },
   "execution_count": null,
   "outputs": []
  },
  {
   "cell_type": "code",
   "source": [
    "def spacy_lemmatize(text):\n",
    "    doc = nlp(text)\n",
    "    lemmas = [token.lemma_ for token in doc if (token.text.isalpha() and token.text not in STOPWORDS)]\n",
    "    return lemmas"
   ],
   "metadata": {
    "id": "8WVr-rPSK4AM"
   },
   "execution_count": null,
   "outputs": []
  },
  {
   "cell_type": "code",
   "source": [
    "vectorizer = TfidfVectorizer(tokenizer=spacy_lemmatize)"
   ],
   "metadata": {
    "id": "ajaH5-QOMumo"
   },
   "execution_count": null,
   "outputs": []
  },
  {
   "cell_type": "code",
   "source": [
    "%%time\n",
    "\n",
    "X_train = vectorizer.fit_transform(train_df['text'])\n",
    "X_dev = vectorizer.transform(dev_df['text'])"
   ],
   "metadata": {
    "colab": {
     "base_uri": "https://localhost:8080/"
    },
    "id": "BXN9MtqwNg1s",
    "outputId": "b1a6eca4-1d4e-4cbb-ad71-53fce2ec7433"
   },
   "execution_count": null,
   "outputs": [
    {
     "output_type": "stream",
     "name": "stderr",
     "text": [
      "/usr/local/lib/python3.9/dist-packages/sklearn/feature_extraction/text.py:528: UserWarning: The parameter 'token_pattern' will not be used since 'tokenizer' is not None'\n",
      "  warnings.warn(\n"
     ]
    },
    {
     "output_type": "stream",
     "name": "stdout",
     "text": [
      "CPU times: user 2min 57s, sys: 487 ms, total: 2min 57s\n",
      "Wall time: 2min 59s\n"
     ]
    }
   ]
  },
  {
   "cell_type": "code",
   "source": [
    "clf = LogisticRegression()\n",
    "clf.fit(X_train, train_df['label'])\n",
    "y_pred = clf.predict(X_dev)\n",
    "print(classification_report(dev_df['label'], y_pred))"
   ],
   "metadata": {
    "colab": {
     "base_uri": "https://localhost:8080/"
    },
    "id": "noD8UloBNhxq",
    "outputId": "3f008a42-5c40-46da-b5c8-52cc5bb7f2b9"
   },
   "execution_count": null,
   "outputs": [
    {
     "output_type": "stream",
     "name": "stdout",
     "text": [
      "              precision    recall  f1-score   support\n",
      "\n",
      "     neutral       0.79      0.96      0.86       800\n",
      "       toxic       0.95      0.74      0.83       800\n",
      "\n",
      "    accuracy                           0.85      1600\n",
      "   macro avg       0.87      0.85      0.85      1600\n",
      "weighted avg       0.87      0.85      0.85      1600\n",
      "\n"
     ]
    }
   ]
  },
  {
   "cell_type": "code",
   "source": [],
   "metadata": {
    "id": "blCf8CrKNnXF"
   },
   "execution_count": null,
   "outputs": []
  }
 ]
}
