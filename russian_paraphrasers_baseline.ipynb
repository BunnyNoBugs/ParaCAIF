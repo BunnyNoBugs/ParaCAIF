{
 "cells": [
  {
   "cell_type": "code",
   "execution_count": 34,
   "outputs": [],
   "source": [
    "import transformers\n",
    "transformers.logging.set_verbosity_error()"
   ],
   "metadata": {
    "collapsed": false
   }
  },
  {
   "cell_type": "code",
   "execution_count": 30,
   "outputs": [],
   "source": [
    "import pandas as pd\n",
    "from tqdm import tqdm"
   ],
   "metadata": {
    "collapsed": false
   }
  },
  {
   "cell_type": "code",
   "execution_count": 31,
   "outputs": [],
   "source": [
    "dev_df = pd.read_csv('data/input/dev.tsv', sep='\\t')\n",
    "toxic_inputs = dev_df['toxic_comment'].tolist()"
   ],
   "metadata": {
    "collapsed": false
   }
  },
  {
   "cell_type": "markdown",
   "source": [
    "## Library version"
   ],
   "metadata": {
    "collapsed": false
   }
  },
  {
   "cell_type": "code",
   "execution_count": 1,
   "outputs": [],
   "source": [
    "from russian_paraphrasers import GPTParaphraser"
   ],
   "metadata": {
    "collapsed": false
   }
  },
  {
   "cell_type": "code",
   "execution_count": 3,
   "outputs": [],
   "source": [
    "model_name = 'russian-paraphrasers-gpt3'"
   ],
   "metadata": {
    "collapsed": false
   }
  },
  {
   "cell_type": "code",
   "execution_count": 4,
   "metadata": {},
   "outputs": [],
   "source": [
    "paraphraser = GPTParaphraser(model_name=\"gpt3\", range_cand=True, make_eval=False)"
   ]
  },
  {
   "cell_type": "code",
   "execution_count": 5,
   "metadata": {},
   "outputs": [],
   "source": [
    "dev_df = pd.read_csv('data/input/dev.tsv', sep='\\t')\n",
    "toxic_inputs = dev_df['toxic_comment'].tolist()"
   ]
  },
  {
   "cell_type": "code",
   "execution_count": 6,
   "metadata": {},
   "outputs": [],
   "source": [
    "sentence = \"Мерседес это самая быстрая машина на российском рынке.\""
   ]
  },
  {
   "cell_type": "code",
   "execution_count": null,
   "metadata": {},
   "outputs": [],
   "source": [
    "results = paraphraser.generate(\n",
    "    sentence, n=10, temperature=1, \n",
    "    top_k=10, top_p=0.9, \n",
    "    max_length=100, repetition_penalty=1.5,\n",
    "    threshold=0.7\n",
    ")\n",
    "results"
   ]
  },
  {
   "cell_type": "code",
   "execution_count": 26,
   "outputs": [
    {
     "data": {
      "text/plain": "[{'predictions': ['\"Мерс\" признан самой быстрорастущей маркой в России.',\n   'Самая быстрорастущая марка российского авто.',\n   '\"Меркава\" названа самой быстрорастущей иномаркой в России.',\n   'Названа максимальная скорость самой быстроизнашиваемой машины в России.',\n   '\"Меркава\" названа самой быстрой машиной российского авторынка.',\n   'Самая быстрорастущая марка российского автотранспорта.',\n   'Самая быстрорастущая компания в России.',\n   'Самая быстрорастущая марка автомобилей в России.',\n   '\" Мерседесе\" принадлежит рекорд по скоростемеру.',\n   'Мерседесе быстрее всех российских авто.'],\n  'best_candidates': ['Самая быстрорастущая марка российского автотранспорта.',\n   'Названа максимальная скорость самой быстроизнашиваемой машины в России.',\n   '\"Меркава\" названа самой быстрой машиной российского авторынка.',\n   'Самая быстрорастущая марка автомобилей в России.',\n   'Самая быстрорастущая марка российского авто.',\n   'Мерседесе быстрее всех российских авто.']}]"
     },
     "execution_count": 26,
     "metadata": {},
     "output_type": "execute_result"
    }
   ],
   "source": [
    "results['results']"
   ],
   "metadata": {
    "collapsed": false
   }
  },
  {
   "cell_type": "code",
   "execution_count": 36,
   "metadata": {},
   "outputs": [
    {
     "name": "stderr",
     "output_type": "stream",
     "text": [
      "100%|██████████| 800/800 [36:28<00:00,  2.74s/it]\n"
     ]
    }
   ],
   "source": [
    "para_results = []\n",
    "for i in tqdm(toxic_inputs):\n",
    "    results = paraphraser.generate(\n",
    "        i, n=10, temperature=1,\n",
    "        top_k=10, top_p=0.9,\n",
    "        max_length=100, repetition_penalty=1.5,\n",
    "        threshold=0.7\n",
    "    )\n",
    "    para_result = []\n",
    "    for result in results['results']:\n",
    "        if result['best_candidates']:\n",
    "            para_result.append(result['best_candidates'][-1])\n",
    "        else:\n",
    "            para_result.append(result['predictions'][0])\n",
    "    para_results.append(' '.join(para_result))"
   ]
  },
  {
   "cell_type": "code",
   "execution_count": 42,
   "metadata": {},
   "outputs": [],
   "source": [
    "with open(f'data/output/{model_name}_dev.txt', 'w', encoding='utf-8') as file:\n",
    "    file.writelines([sentence+'\\n' for sentence in para_results])"
   ]
  },
  {
   "cell_type": "markdown",
   "source": [
    "## HuggingFace version"
   ],
   "metadata": {
    "collapsed": false
   }
  },
  {
   "cell_type": "code",
   "execution_count": 17,
   "outputs": [],
   "source": [
    "from transformers import GPT2LMHeadModel, GPT2Tokenizer\n",
    "from russian_paraphrasers.utils import clean"
   ],
   "metadata": {
    "collapsed": false
   }
  },
  {
   "cell_type": "code",
   "execution_count": 3,
   "outputs": [],
   "source": [
    "checkpoint = 'alenusch/rugpt3-paraphraser'\n",
    "model_name = checkpoint.split('/')[1]"
   ],
   "metadata": {
    "collapsed": false
   }
  },
  {
   "cell_type": "code",
   "execution_count": 4,
   "outputs": [],
   "source": [
    "model = GPT2LMHeadModel.from_pretrained(checkpoint)\n",
    "tokenizer = GPT2Tokenizer.from_pretrained(checkpoint)\n",
    "model.cuda();"
   ],
   "metadata": {
    "collapsed": false
   }
  },
  {
   "cell_type": "code",
   "execution_count": 5,
   "outputs": [],
   "source": [
    "sentence = 'Мама мыла раму'\n",
    "prompt = f'<s>{sentence} === '"
   ],
   "metadata": {
    "collapsed": false
   }
  },
  {
   "cell_type": "code",
   "execution_count": 6,
   "outputs": [],
   "source": [
    "encoded_prompt = tokenizer.encode(prompt, add_special_tokens=False, return_tensors=\"pt\")\n",
    "encoded_prompt = encoded_prompt.to(model.device)"
   ],
   "metadata": {
    "collapsed": false
   }
  },
  {
   "cell_type": "code",
   "execution_count": 7,
   "outputs": [
    {
     "data": {
      "text/plain": "tensor([[   32,    87,    34, 35695, 43068,   351,   597,   225,  6188,    33,\n           225]], device='cuda:0')"
     },
     "execution_count": 7,
     "metadata": {},
     "output_type": "execute_result"
    }
   ],
   "source": [
    "encoded_prompt"
   ],
   "metadata": {
    "collapsed": false
   }
  },
  {
   "cell_type": "code",
   "execution_count": 6,
   "outputs": [],
   "source": [
    "input_ids = encoded_prompt"
   ],
   "metadata": {
    "collapsed": false
   }
  },
  {
   "cell_type": "code",
   "execution_count": 7,
   "outputs": [
    {
     "name": "stderr",
     "output_type": "stream",
     "text": [
      "Setting `pad_token_id` to `eos_token_id`:50256 for open-end generation.\n"
     ]
    }
   ],
   "source": [
    "output_sequences = model.generate(\n",
    "    input_ids=input_ids,\n",
    "    max_length=100,\n",
    "    temperature=1,\n",
    "    top_k=10,\n",
    "    top_p=0.9,\n",
    "    repetition_penalty=1.5,\n",
    "    do_sample=True,\n",
    "    num_return_sequences=10\n",
    ")"
   ],
   "metadata": {
    "collapsed": false
   }
  },
  {
   "cell_type": "code",
   "execution_count": 33,
   "outputs": [],
   "source": [
    "def paraphrase(\n",
    "        text,\n",
    "        model,\n",
    "        tokenizer,\n",
    "        max_length=100,\n",
    "        temperature=1,\n",
    "        top_k=10,\n",
    "        top_p=0.9,\n",
    "        repetition_penalty=1.0,\n",
    "        do_sample=True,\n",
    "        num_return_sequences=1,\n",
    "        stop_token='</s>'\n",
    "):\n",
    "    prompt = f'<s>{text} === '\n",
    "    encoded_prompt = tokenizer.encode(prompt, add_special_tokens=False, return_tensors=\"pt\")\n",
    "    encoded_prompt = encoded_prompt.to(model.device)\n",
    "    input_ids = encoded_prompt\n",
    "    output_sequences = model.generate(\n",
    "        input_ids=input_ids,\n",
    "        max_length=max_length,\n",
    "        temperature=temperature,\n",
    "        top_k=top_k,\n",
    "        top_p=top_p,\n",
    "        repetition_penalty=repetition_penalty,\n",
    "        do_sample=do_sample,\n",
    "        num_return_sequences=num_return_sequences\n",
    "    )\n",
    "    output_text = tokenizer.decode(output_sequences[0])\n",
    "    output_text = output_text[: output_text.find(stop_token) if stop_token else None]\n",
    "    output_text = output_text[len(tokenizer.decode(encoded_prompt[0])):]\n",
    "    output_text = clean(output_text)\n",
    "\n",
    "    return output_text"
   ],
   "metadata": {
    "collapsed": false
   }
  },
  {
   "cell_type": "code",
   "execution_count": 35,
   "outputs": [
    {
     "name": "stderr",
     "output_type": "stream",
     "text": [
      "100%|██████████| 800/800 [19:33<00:00,  1.47s/it]\n"
     ]
    }
   ],
   "source": [
    "para_results = []\n",
    "for i in tqdm(toxic_inputs):\n",
    "    para_result = paraphrase(i, model, tokenizer)\n",
    "    para_results.append(para_result)"
   ],
   "metadata": {
    "collapsed": false
   }
  },
  {
   "cell_type": "code",
   "execution_count": 38,
   "outputs": [],
   "source": [
    "with open(f'data/output/{model_name}_dev.txt', 'w', encoding='utf-8') as file:\n",
    "    file.writelines([sentence+'\\n' for sentence in para_results])"
   ],
   "metadata": {
    "collapsed": false
   }
  },
  {
   "cell_type": "code",
   "execution_count": 39,
   "outputs": [
    {
     "data": {
      "text/plain": "'rugpt3-paraphraser'"
     },
     "execution_count": 39,
     "metadata": {},
     "output_type": "execute_result"
    }
   ],
   "source": [
    "model_name"
   ],
   "metadata": {
    "collapsed": false
   }
  }
 ],
 "metadata": {
  "kernelspec": {
   "display_name": "Python 3",
   "language": "python",
   "name": "python3"
  },
  "language_info": {
   "codemirror_mode": {
    "name": "ipython",
    "version": 3
   },
   "file_extension": ".py",
   "mimetype": "text/x-python",
   "name": "python",
   "nbconvert_exporter": "python",
   "pygments_lexer": "ipython3",
   "version": "3.8.6"
  }
 },
 "nbformat": 4,
 "nbformat_minor": 4
}
