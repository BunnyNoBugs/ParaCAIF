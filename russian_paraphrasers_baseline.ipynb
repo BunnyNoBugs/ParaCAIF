{
 "cells": [
  {
   "cell_type": "code",
   "execution_count": 1,
   "outputs": [],
   "source": [
    "import transformers\n",
    "transformers.logging.set_verbosity_error()"
   ],
   "metadata": {
    "collapsed": false
   }
  },
  {
   "cell_type": "code",
   "execution_count": 2,
   "outputs": [],
   "source": [
    "import pandas as pd\n",
    "from tqdm import tqdm"
   ],
   "metadata": {
    "collapsed": false
   }
  },
  {
   "cell_type": "code",
   "execution_count": 3,
   "outputs": [],
   "source": [
    "dev_df = pd.read_csv('data/input/dev.tsv', sep='\\t')\n",
    "toxic_inputs = dev_df['toxic_comment'].tolist()"
   ],
   "metadata": {
    "collapsed": false
   }
  },
  {
   "cell_type": "markdown",
   "source": [
    "## Library version"
   ],
   "metadata": {
    "collapsed": false
   }
  },
  {
   "cell_type": "code",
   "execution_count": 1,
   "outputs": [],
   "source": [
    "from russian_paraphrasers import GPTParaphraser"
   ],
   "metadata": {
    "collapsed": false
   }
  },
  {
   "cell_type": "code",
   "execution_count": 2,
   "outputs": [],
   "source": [
    "model_name = 'russian-paraphrasers-gpt3'"
   ],
   "metadata": {
    "collapsed": false
   }
  },
  {
   "cell_type": "code",
   "execution_count": 6,
   "metadata": {},
   "outputs": [],
   "source": [
    "paraphraser = GPTParaphraser(model_name=\"gpt3\", range_cand=True, make_eval=False)"
   ]
  },
  {
   "cell_type": "code",
   "execution_count": 7,
   "metadata": {},
   "outputs": [],
   "source": [
    "dev_df = pd.read_csv('data/input/dev.tsv', sep='\\t')\n",
    "toxic_inputs = dev_df['toxic_comment'].tolist()"
   ]
  },
  {
   "cell_type": "code",
   "execution_count": 8,
   "metadata": {},
   "outputs": [],
   "source": [
    "sentence = \"Мерседес это самая быстрая машина на российском рынке.\""
   ]
  },
  {
   "cell_type": "code",
   "execution_count": 9,
   "metadata": {},
   "outputs": [
    {
     "data": {
      "text/plain": "{'origin': 'Мерседес это самая быстрая машина на российском рынке.',\n 'results': [{'predictions': ['Merce признали самой быстрой машиной в России.',\n    'Самая быстрорастущая компания по производству авто в России.',\n    'Самая быстрорастущая марка автомобилей в России.',\n    'Merce является самой быстрорастущей маркой автомобилей в России.',\n    'Мерседесе назвали самой быстрорастущей маркой в России.',\n    'Самая быстрорастущая марка автомобилей в России.',\n    'Мерседесе признали самой быстрой машиной в России.',\n    'Самая скоростная российская марка авто \"мерседесе\".',\n    'Названа максимальная скорость самой быстрой иномарки в России.',\n    'Названа наиболее быстрорастущая марка легковых автомобилей в России.'],\n   'best_candidates': ['Самая быстрорастущая компания по производству авто в России.',\n    'Мерседесе назвали самой быстрорастущей маркой в России.',\n    'Названа наиболее быстрорастущая марка легковых автомобилей в России.',\n    'Самая быстрорастущая марка автомобилей в России.',\n    'Merce признали самой быстрой машиной в России.',\n    'Merce является самой быстрорастущей маркой автомобилей в России.',\n    'Самая скоростная российская марка авто \"мерседесе\".',\n    'Мерседесе признали самой быстрой машиной в России.']}]}"
     },
     "execution_count": 9,
     "metadata": {},
     "output_type": "execute_result"
    }
   ],
   "source": [
    "results = paraphraser.generate(\n",
    "    sentence, n=10, temperature=1, \n",
    "    top_k=10, top_p=0.9, \n",
    "    max_length=100, repetition_penalty=1.5,\n",
    "    threshold=0.7\n",
    ")\n",
    "results"
   ]
  },
  {
   "cell_type": "code",
   "execution_count": 10,
   "outputs": [
    {
     "data": {
      "text/plain": "[{'predictions': ['Merce признали самой быстрой машиной в России.',\n   'Самая быстрорастущая компания по производству авто в России.',\n   'Самая быстрорастущая марка автомобилей в России.',\n   'Merce является самой быстрорастущей маркой автомобилей в России.',\n   'Мерседесе назвали самой быстрорастущей маркой в России.',\n   'Самая быстрорастущая марка автомобилей в России.',\n   'Мерседесе признали самой быстрой машиной в России.',\n   'Самая скоростная российская марка авто \"мерседесе\".',\n   'Названа максимальная скорость самой быстрой иномарки в России.',\n   'Названа наиболее быстрорастущая марка легковых автомобилей в России.'],\n  'best_candidates': ['Самая быстрорастущая компания по производству авто в России.',\n   'Мерседесе назвали самой быстрорастущей маркой в России.',\n   'Названа наиболее быстрорастущая марка легковых автомобилей в России.',\n   'Самая быстрорастущая марка автомобилей в России.',\n   'Merce признали самой быстрой машиной в России.',\n   'Merce является самой быстрорастущей маркой автомобилей в России.',\n   'Самая скоростная российская марка авто \"мерседесе\".',\n   'Мерседесе признали самой быстрой машиной в России.']}]"
     },
     "execution_count": 10,
     "metadata": {},
     "output_type": "execute_result"
    }
   ],
   "source": [
    "results['results']"
   ],
   "metadata": {
    "collapsed": false
   }
  },
  {
   "cell_type": "code",
   "execution_count": 11,
   "metadata": {},
   "outputs": [
    {
     "name": "stderr",
     "output_type": "stream",
     "text": [
      "100%|██████████| 800/800 [35:25<00:00,  2.66s/it]\n"
     ]
    }
   ],
   "source": [
    "para_results = []\n",
    "for i in tqdm(toxic_inputs):\n",
    "    results = paraphraser.generate(\n",
    "        i, n=10, temperature=1,\n",
    "        top_k=10, top_p=0.9,\n",
    "        max_length=100, repetition_penalty=1.0,\n",
    "        threshold=0.7\n",
    "    )\n",
    "    para_result = []\n",
    "    for result in results['results']:\n",
    "        if result['best_candidates']:\n",
    "            para_result.append(result['best_candidates'][-1])\n",
    "        else:\n",
    "            para_result.append(result['predictions'][0])\n",
    "    para_results.append(' '.join(para_result))"
   ]
  },
  {
   "cell_type": "code",
   "execution_count": 12,
   "metadata": {},
   "outputs": [],
   "source": [
    "with open(f'data/output/{model_name}-no-repetition-penalty_dev.txt', 'w', encoding='utf-8') as file:\n",
    "    file.writelines([sentence+'\\n' for sentence in para_results])"
   ]
  },
  {
   "cell_type": "markdown",
   "source": [
    "## HuggingFace version"
   ],
   "metadata": {
    "collapsed": false
   }
  },
  {
   "cell_type": "code",
   "execution_count": 3,
   "outputs": [],
   "source": [
    "from transformers import GPT2LMHeadModel, GPT2Tokenizer\n",
    "from russian_paraphrasers.utils import clean"
   ],
   "metadata": {
    "collapsed": false
   }
  },
  {
   "cell_type": "code",
   "execution_count": 4,
   "outputs": [],
   "source": [
    "checkpoint = 'alenusch/rugpt3-paraphraser'\n",
    "model_name = checkpoint.split('/')[1]"
   ],
   "metadata": {
    "collapsed": false
   }
  },
  {
   "cell_type": "code",
   "execution_count": 5,
   "outputs": [],
   "source": [
    "model = GPT2LMHeadModel.from_pretrained(checkpoint)\n",
    "tokenizer = GPT2Tokenizer.from_pretrained(checkpoint)\n",
    "model.cuda();"
   ],
   "metadata": {
    "collapsed": false
   }
  },
  {
   "cell_type": "code",
   "execution_count": 20,
   "outputs": [],
   "source": [
    "sentence = '<s>Мама мыла раму'\n",
    "prompt = f'{sentence} === '"
   ],
   "metadata": {
    "collapsed": false
   }
  },
  {
   "cell_type": "code",
   "execution_count": 21,
   "outputs": [],
   "source": [
    "encoded_prompt = tokenizer.encode(prompt, add_special_tokens=False, return_tensors=\"pt\")\n",
    "encoded_prompt = encoded_prompt.to(model.device)"
   ],
   "metadata": {
    "collapsed": false
   }
  },
  {
   "cell_type": "code",
   "execution_count": 22,
   "outputs": [
    {
     "data": {
      "text/plain": "tensor([[   32,    87,    34, 35695, 43068,   351,   597,   225,  6188,    33,\n           225]], device='cuda:0')"
     },
     "execution_count": 22,
     "metadata": {},
     "output_type": "execute_result"
    }
   ],
   "source": [
    "encoded_prompt"
   ],
   "metadata": {
    "collapsed": false
   }
  },
  {
   "cell_type": "code",
   "execution_count": 23,
   "outputs": [],
   "source": [
    "input_ids = encoded_prompt"
   ],
   "metadata": {
    "collapsed": false
   }
  },
  {
   "cell_type": "code",
   "execution_count": 24,
   "outputs": [
    {
     "name": "stderr",
     "output_type": "stream",
     "text": [
      "Setting `pad_token_id` to `eos_token_id`:50256 for open-end generation.\n"
     ]
    }
   ],
   "source": [
    "output_sequences = model.generate(\n",
    "    input_ids=input_ids,\n",
    "    max_length=100,\n",
    "    temperature=1,\n",
    "    top_k=10,\n",
    "    top_p=0.9,\n",
    "    repetition_penalty=1.5,\n",
    "    do_sample=True,\n",
    "    num_return_sequences=10\n",
    ")"
   ],
   "metadata": {
    "collapsed": false
   }
  },
  {
   "cell_type": "code",
   "execution_count": 25,
   "outputs": [
    {
     "data": {
      "text/plain": "'<s>Мама мыла раму ===  Мама драила рамы в доме.</s>\\n<s>А как у тебя дела сынок === Ну что там малыш мой сладкий даш мне свою руку для рукопожатия а? Ты же не против правда ведь дорогая и всё такое потому папа ты так добр ко всем нам разве нет дорогой</s>\\n<s>Я знаю на сколько продвинулась эта работа профессор === Я понимаю насколько сложная операция была проведена вашим'"
     },
     "execution_count": 25,
     "metadata": {},
     "output_type": "execute_result"
    }
   ],
   "source": [
    "tokenizer.decode(output_sequences[0])"
   ],
   "metadata": {
    "collapsed": false
   }
  },
  {
   "cell_type": "code",
   "execution_count": 33,
   "outputs": [],
   "source": [
    "def paraphrase(\n",
    "        text,\n",
    "        model,\n",
    "        tokenizer,\n",
    "        max_length=100,\n",
    "        temperature=1,\n",
    "        top_k=10,\n",
    "        top_p=0.9,\n",
    "        repetition_penalty=1.0,\n",
    "        do_sample=True,\n",
    "        num_return_sequences=1,\n",
    "        stop_token='</s>'\n",
    "):\n",
    "    prompt = f'<s>{text} === '\n",
    "    encoded_prompt = tokenizer.encode(prompt, add_special_tokens=False, return_tensors=\"pt\")\n",
    "    encoded_prompt = encoded_prompt.to(model.device)\n",
    "    input_ids = encoded_prompt\n",
    "    output_sequences = model.generate(\n",
    "        input_ids=input_ids,\n",
    "        max_length=max_length,\n",
    "        temperature=temperature,\n",
    "        top_k=top_k,\n",
    "        top_p=top_p,\n",
    "        repetition_penalty=repetition_penalty,\n",
    "        do_sample=do_sample,\n",
    "        num_return_sequences=num_return_sequences\n",
    "    )\n",
    "    output_text = tokenizer.decode(output_sequences[0])\n",
    "    output_text = output_text[: output_text.find(stop_token) if stop_token else None]\n",
    "    output_text = output_text[len(tokenizer.decode(encoded_prompt[0])):]\n",
    "    output_text = clean(output_text)\n",
    "\n",
    "    return output_text"
   ],
   "metadata": {
    "collapsed": false
   }
  },
  {
   "cell_type": "code",
   "execution_count": 35,
   "outputs": [
    {
     "name": "stderr",
     "output_type": "stream",
     "text": [
      "100%|██████████| 800/800 [19:33<00:00,  1.47s/it]\n"
     ]
    }
   ],
   "source": [
    "para_results = []\n",
    "for i in tqdm(toxic_inputs):\n",
    "    para_result = paraphrase(i, model, tokenizer)\n",
    "    para_results.append(para_result)"
   ],
   "metadata": {
    "collapsed": false
   }
  },
  {
   "cell_type": "code",
   "execution_count": 38,
   "outputs": [],
   "source": [
    "with open(f'data/output/{model_name}_dev.txt', 'w', encoding='utf-8') as file:\n",
    "    file.writelines([sentence+'\\n' for sentence in para_results])"
   ],
   "metadata": {
    "collapsed": false
   }
  },
  {
   "cell_type": "code",
   "execution_count": 39,
   "outputs": [
    {
     "data": {
      "text/plain": "'rugpt3-paraphraser'"
     },
     "execution_count": 39,
     "metadata": {},
     "output_type": "execute_result"
    }
   ],
   "source": [
    "model_name"
   ],
   "metadata": {
    "collapsed": false
   }
  }
 ],
 "metadata": {
  "kernelspec": {
   "display_name": "Python 3",
   "language": "python",
   "name": "python3"
  },
  "language_info": {
   "codemirror_mode": {
    "name": "ipython",
    "version": 3
   },
   "file_extension": ".py",
   "mimetype": "text/x-python",
   "name": "python",
   "nbconvert_exporter": "python",
   "pygments_lexer": "ipython3",
   "version": "3.8.6"
  }
 },
 "nbformat": 4,
 "nbformat_minor": 4
}
