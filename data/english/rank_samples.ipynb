{
 "cells": [
  {
   "cell_type": "code",
   "execution_count": 13,
   "metadata": {
    "collapsed": true,
    "ExecuteTime": {
     "end_time": "2023-05-15T15:49:23.283072100Z",
     "start_time": "2023-05-15T15:49:07.211688600Z"
    }
   },
   "outputs": [],
   "source": [
    "import pickle\n",
    "from tqdm import tqdm\n",
    "from transformers import AutoModelForSequenceClassification, AutoTokenizer\n",
    "from sentence_transformers import SentenceTransformer\n",
    "from rank_paraphrases import rank_paraphrases"
   ]
  },
  {
   "cell_type": "code",
   "execution_count": 30,
   "outputs": [],
   "source": [
    "#constants\n",
    "lm_checkpoint = 's-nlp/t5-paraphrase-paws-msrp-opinosis-paranmt'\n",
    "model_name = lm_checkpoint.split('/')[1]\n",
    "cls_checkpoint = 's-nlp/roberta_toxicity_classifier'"
   ],
   "metadata": {
    "collapsed": false,
    "ExecuteTime": {
     "end_time": "2023-05-15T17:18:46.781749500Z",
     "start_time": "2023-05-15T17:18:46.775703600Z"
    }
   }
  },
  {
   "cell_type": "code",
   "execution_count": 23,
   "outputs": [],
   "source": [
    "with open('test_1k_toxic.txt') as f:\n",
    "    toxic_inputs = f.read().splitlines()"
   ],
   "metadata": {
    "collapsed": false,
    "ExecuteTime": {
     "end_time": "2023-05-15T15:53:02.761442100Z",
     "start_time": "2023-05-15T15:53:02.751217100Z"
    }
   }
  },
  {
   "cell_type": "code",
   "execution_count": 7,
   "outputs": [],
   "source": [
    "with open('caif-t5-paraphrase-paws-msrp-opinosis-paranmt_test_1k.pickle', 'rb') as f:\n",
    "    samples1 = pickle.load(f)\n",
    "\n",
    "with open('caif-t5-paraphrase-paws-msrp-opinosis-paranmt_test_1k2.pickle', 'rb') as f:\n",
    "    samples2 = pickle.load(f)"
   ],
   "metadata": {
    "collapsed": false,
    "ExecuteTime": {
     "end_time": "2023-05-15T15:48:13.023132Z",
     "start_time": "2023-05-15T15:48:12.992815700Z"
    }
   }
  },
  {
   "cell_type": "code",
   "execution_count": 10,
   "outputs": [],
   "source": [
    "samples = samples1 + samples2"
   ],
   "metadata": {
    "collapsed": false,
    "ExecuteTime": {
     "end_time": "2023-05-15T15:48:22.814898300Z",
     "start_time": "2023-05-15T15:48:22.806810800Z"
    }
   }
  },
  {
   "cell_type": "code",
   "execution_count": 19,
   "outputs": [
    {
     "data": {
      "text/plain": "Downloading (…)lve/main/config.json:   0%|          | 0.00/794 [00:00<?, ?B/s]",
      "application/vnd.jupyter.widget-view+json": {
       "version_major": 2,
       "version_minor": 0,
       "model_id": "d7f4aaee50e74d2d8e92de2a1237f710"
      }
     },
     "metadata": {},
     "output_type": "display_data"
    },
    {
     "data": {
      "text/plain": "Downloading pytorch_model.bin:   0%|          | 0.00/501M [00:00<?, ?B/s]",
      "application/vnd.jupyter.widget-view+json": {
       "version_major": 2,
       "version_minor": 0,
       "model_id": "e30330fff3ec48ba84b19087e008ef8d"
      }
     },
     "metadata": {},
     "output_type": "display_data"
    },
    {
     "name": "stderr",
     "output_type": "stream",
     "text": [
      "Some weights of the model checkpoint at s-nlp/roberta_toxicity_classifier were not used when initializing RobertaForSequenceClassification: ['roberta.pooler.dense.bias', 'roberta.pooler.dense.weight']\n",
      "- This IS expected if you are initializing RobertaForSequenceClassification from the checkpoint of a model trained on another task or with another architecture (e.g. initializing a BertForSequenceClassification model from a BertForPreTraining model).\n",
      "- This IS NOT expected if you are initializing RobertaForSequenceClassification from the checkpoint of a model that you expect to be exactly identical (initializing a BertForSequenceClassification model from a BertForSequenceClassification model).\n"
     ]
    },
    {
     "data": {
      "text/plain": "Downloading (…)okenizer_config.json:   0%|          | 0.00/25.0 [00:00<?, ?B/s]",
      "application/vnd.jupyter.widget-view+json": {
       "version_major": 2,
       "version_minor": 0,
       "model_id": "e53597f3bc8b431ab4d12d17bd19f37c"
      }
     },
     "metadata": {},
     "output_type": "display_data"
    },
    {
     "data": {
      "text/plain": "Downloading (…)olve/main/vocab.json:   0%|          | 0.00/798k [00:00<?, ?B/s]",
      "application/vnd.jupyter.widget-view+json": {
       "version_major": 2,
       "version_minor": 0,
       "model_id": "d747d650521b4dc59021141301ff95e5"
      }
     },
     "metadata": {},
     "output_type": "display_data"
    },
    {
     "data": {
      "text/plain": "Downloading (…)olve/main/merges.txt:   0%|          | 0.00/456k [00:00<?, ?B/s]",
      "application/vnd.jupyter.widget-view+json": {
       "version_major": 2,
       "version_minor": 0,
       "model_id": "9d3aebc18347482daa10853e91311d2f"
      }
     },
     "metadata": {},
     "output_type": "display_data"
    },
    {
     "data": {
      "text/plain": "Downloading (…)cial_tokens_map.json:   0%|          | 0.00/239 [00:00<?, ?B/s]",
      "application/vnd.jupyter.widget-view+json": {
       "version_major": 2,
       "version_minor": 0,
       "model_id": "2f593252747c494eb97066ae11ebfd3b"
      }
     },
     "metadata": {},
     "output_type": "display_data"
    }
   ],
   "source": [
    "style_cls_model = AutoModelForSequenceClassification.from_pretrained(cls_checkpoint)\n",
    "style_tokenizer = AutoTokenizer.from_pretrained(cls_checkpoint)\n",
    "style_cls_model.cuda();"
   ],
   "metadata": {
    "collapsed": false,
    "ExecuteTime": {
     "end_time": "2023-05-15T15:51:59.816510900Z",
     "start_time": "2023-05-15T15:51:10.485455900Z"
    }
   }
  },
  {
   "cell_type": "code",
   "execution_count": 17,
   "outputs": [],
   "source": [
    "sim_model = SentenceTransformer('paraphrase-xlm-r-multilingual-v1')"
   ],
   "metadata": {
    "collapsed": false,
    "ExecuteTime": {
     "end_time": "2023-05-15T15:50:02.262662900Z",
     "start_time": "2023-05-15T15:49:50.162312900Z"
    }
   }
  },
  {
   "cell_type": "code",
   "execution_count": 29,
   "outputs": [
    {
     "name": "stderr",
     "output_type": "stream",
     "text": [
      "1000it [00:38, 25.70it/s]\n"
     ]
    }
   ],
   "source": [
    "para_results = []\n",
    "best_candidates = []\n",
    "\n",
    "for i, candidates in tqdm(zip(toxic_inputs, samples)):\n",
    "    ranked_candidates = rank_paraphrases(\n",
    "        candidates,\n",
    "        i,\n",
    "        style_cls_model,\n",
    "        style_tokenizer,\n",
    "        sim_model,\n",
    "        style_score_threshold=0.99\n",
    "    )\n",
    "    para_results.append(ranked_candidates['ranked_candidates'])\n",
    "    best_candidates.append(ranked_candidates['best_candidate'][2])"
   ],
   "metadata": {
    "collapsed": false,
    "ExecuteTime": {
     "end_time": "2023-05-15T17:18:38.442700600Z",
     "start_time": "2023-05-15T17:17:59.520795800Z"
    }
   }
  },
  {
   "cell_type": "code",
   "execution_count": 31,
   "outputs": [],
   "source": [
    "with open(f'caif-{model_name}-5-samples_test_1k.txt', 'w', encoding='utf-8') as file:\n",
    "    file.writelines([sentence + '\\n' for sentence in best_candidates])"
   ],
   "metadata": {
    "collapsed": false,
    "ExecuteTime": {
     "end_time": "2023-05-15T17:19:17.381169500Z",
     "start_time": "2023-05-15T17:19:17.365519300Z"
    }
   }
  },
  {
   "cell_type": "code",
   "execution_count": null,
   "outputs": [],
   "source": [],
   "metadata": {
    "collapsed": false
   }
  }
 ],
 "metadata": {
  "kernelspec": {
   "display_name": "Python 3",
   "language": "python",
   "name": "python3"
  },
  "language_info": {
   "codemirror_mode": {
    "name": "ipython",
    "version": 2
   },
   "file_extension": ".py",
   "mimetype": "text/x-python",
   "name": "python",
   "nbconvert_exporter": "python",
   "pygments_lexer": "ipython2",
   "version": "2.7.6"
  }
 },
 "nbformat": 4,
 "nbformat_minor": 0
}
