{
 "cells": [
  {
   "cell_type": "code",
   "execution_count": 1,
   "outputs": [],
   "source": [
    "from t5_paraphraser_inference import caif_t5_paraphrase\n",
    "from tqdm import tqdm\n",
    "import pickle"
   ],
   "metadata": {
    "collapsed": false,
    "ExecuteTime": {
     "end_time": "2023-05-15T19:32:51.333165800Z",
     "start_time": "2023-05-15T19:32:48.286086500Z"
    }
   }
  },
  {
   "cell_type": "code",
   "execution_count": 2,
   "outputs": [],
   "source": [
    "#constants\n",
    "lm_checkpoint = 's-nlp/t5-paraphrase-paws-msrp-opinosis-paranmt'\n",
    "model_name = lm_checkpoint.split('/')[1]\n",
    "cls_checkpoint = 's-nlp/roberta_toxicity_classifier_v1'"
   ],
   "metadata": {
    "collapsed": false,
    "ExecuteTime": {
     "end_time": "2023-05-15T19:32:51.349341Z",
     "start_time": "2023-05-15T19:32:51.349341Z"
    }
   }
  },
  {
   "cell_type": "code",
   "execution_count": 3,
   "outputs": [],
   "source": [
    "with open('data/english/test_1k_toxic.txt') as f:\n",
    "    toxic_inputs = f.read().splitlines()"
   ],
   "metadata": {
    "collapsed": false,
    "ExecuteTime": {
     "end_time": "2023-05-15T19:32:51.365896500Z",
     "start_time": "2023-05-15T19:32:51.349341Z"
    }
   }
  },
  {
   "cell_type": "code",
   "execution_count": 9,
   "outputs": [
    {
     "name": "stderr",
     "output_type": "stream",
     "text": [
      "Some weights of the model checkpoint at s-nlp/roberta_toxicity_classifier_v1 were not used when initializing RobertaForSequenceClassification: ['roberta.pooler.dense.weight', 'roberta.pooler.dense.bias']\n",
      "- This IS expected if you are initializing RobertaForSequenceClassification from the checkpoint of a model trained on another task or with another architecture (e.g. initializing a BertForSequenceClassification model from a BertForPreTraining model).\n",
      "- This IS NOT expected if you are initializing RobertaForSequenceClassification from the checkpoint of a model that you expect to be exactly identical (initializing a BertForSequenceClassification model from a BertForSequenceClassification model).\n",
      "C:\\Users\\User\\AppData\\Roaming\\Python\\Python38\\site-packages\\transformers\\generation\\utils.py:1219: UserWarning: You have modified the pretrained model configuration to control generation. This is a deprecated strategy to control generation and will be removed soon, in a future version. Please use a generation configuration file (see https://huggingface.co/docs/transformers/main_classes/text_generation)\n",
      "  warnings.warn(\n"
     ]
    },
    {
     "name": "stdout",
     "output_type": "stream",
     "text": [
      "Wall time: 1min 2s\n"
     ]
    },
    {
     "data": {
      "text/plain": "\"I like you...... I think you're an idiot and your contribution to our society is stupid!\""
     },
     "execution_count": 9,
     "metadata": {},
     "output_type": "execute_result"
    }
   ],
   "source": [
    "%%time\n",
    "\n",
    "caif_t5_paraphrase(\n",
    "    'i hate you , i think you are an idiot , and youre contributions are stupid .',\n",
    "    lm_checkpoint,\n",
    "    cls_checkpoint,\n",
    "    fp16=False,\n",
    "    alpha=-5,\n",
    "    target_label_id=1,\n",
    "    entropy_threshold=0.5,\n",
    "    encoder_no_repeat_ngram_size=None,\n",
    "    num_samples=1\n",
    ")"
   ],
   "metadata": {
    "collapsed": false
   }
  },
  {
   "cell_type": "code",
   "execution_count": 7,
   "outputs": [
    {
     "name": "stderr",
     "output_type": "stream",
     "text": [
      "100%|██████████| 1000/1000 [38:10:43<00:00, 137.44s/it]  \n"
     ]
    }
   ],
   "source": [
    "para_results = []\n",
    "\n",
    "for i in tqdm(toxic_inputs):\n",
    "    para_result = caif_t5_paraphrase(\n",
    "        i,\n",
    "        lm_checkpoint,\n",
    "        cls_checkpoint,\n",
    "        fp16=False,\n",
    "        alpha=-5,\n",
    "        target_label_id=1,\n",
    "        entropy_threshold=0,\n",
    "        encoder_no_repeat_ngram_size=None,\n",
    "        num_samples=5\n",
    "    )\n",
    "    para_results.append(para_result)\n",
    "    if len(para_results) % 10 == 0:\n",
    "        with open(f'data/english/caif-{model_name}_test_1k2_1.pickle', 'wb') as f:\n",
    "            pickle.dump(para_results, f)"
   ],
   "metadata": {
    "collapsed": false,
    "ExecuteTime": {
     "end_time": "2023-05-17T09:49:48.110014400Z",
     "start_time": "2023-05-15T19:39:04.480867300Z"
    }
   }
  }
 ],
 "metadata": {
  "kernelspec": {
   "display_name": "Python 3",
   "language": "python",
   "name": "python3"
  },
  "language_info": {
   "codemirror_mode": {
    "name": "ipython",
    "version": 2
   },
   "file_extension": ".py",
   "mimetype": "text/x-python",
   "name": "python",
   "nbconvert_exporter": "python",
   "pygments_lexer": "ipython2",
   "version": "2.7.6"
  }
 },
 "nbformat": 4,
 "nbformat_minor": 0
}
